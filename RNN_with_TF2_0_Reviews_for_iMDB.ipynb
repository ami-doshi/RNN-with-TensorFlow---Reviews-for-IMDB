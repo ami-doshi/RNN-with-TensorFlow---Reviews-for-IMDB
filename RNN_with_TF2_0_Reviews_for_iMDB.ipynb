{
  "nbformat": 4,
  "nbformat_minor": 0,
  "metadata": {
    "colab": {
      "name": "RNN with TF2.0 - Reviews for iMDB",
      "provenance": [],
      "collapsed_sections": [],
      "include_colab_link": true
    },
    "kernelspec": {
      "name": "python3",
      "display_name": "Python 3"
    },
    "accelerator": "GPU",
    "widgets": {
      "application/vnd.jupyter.widget-state+json": {
        "abbd3d156071424bb146893a1343da80": {
          "model_module": "@jupyter-widgets/controls",
          "model_name": "HBoxModel",
          "state": {
            "_view_name": "HBoxView",
            "_dom_classes": [],
            "_model_name": "HBoxModel",
            "_view_module": "@jupyter-widgets/controls",
            "_model_module_version": "1.5.0",
            "_view_count": null,
            "_view_module_version": "1.5.0",
            "box_style": "",
            "layout": "IPY_MODEL_e6df56fb9a344e25b705c4901abbb910",
            "_model_module": "@jupyter-widgets/controls",
            "children": [
              "IPY_MODEL_b67a23c1666047f4a79c65de86428633",
              "IPY_MODEL_574d9f13a6c94044bb45c33d68ff39ae"
            ]
          }
        },
        "e6df56fb9a344e25b705c4901abbb910": {
          "model_module": "@jupyter-widgets/base",
          "model_name": "LayoutModel",
          "state": {
            "_view_name": "LayoutView",
            "grid_template_rows": null,
            "right": null,
            "justify_content": null,
            "_view_module": "@jupyter-widgets/base",
            "overflow": null,
            "_model_module_version": "1.2.0",
            "_view_count": null,
            "flex_flow": null,
            "width": null,
            "min_width": null,
            "border": null,
            "align_items": null,
            "bottom": null,
            "_model_module": "@jupyter-widgets/base",
            "top": null,
            "grid_column": null,
            "overflow_y": null,
            "overflow_x": null,
            "grid_auto_flow": null,
            "grid_area": null,
            "grid_template_columns": null,
            "flex": null,
            "_model_name": "LayoutModel",
            "justify_items": null,
            "grid_row": null,
            "max_height": null,
            "align_content": null,
            "visibility": null,
            "align_self": null,
            "height": null,
            "min_height": null,
            "padding": null,
            "grid_auto_rows": null,
            "grid_gap": null,
            "max_width": null,
            "order": null,
            "_view_module_version": "1.2.0",
            "grid_template_areas": null,
            "object_position": null,
            "object_fit": null,
            "grid_auto_columns": null,
            "margin": null,
            "display": null,
            "left": null
          }
        },
        "b67a23c1666047f4a79c65de86428633": {
          "model_module": "@jupyter-widgets/controls",
          "model_name": "FloatProgressModel",
          "state": {
            "_view_name": "ProgressView",
            "style": "IPY_MODEL_536817a85f1e491b9aef55f9560cc516",
            "_dom_classes": [],
            "description": "Dl Completed...: 100%",
            "_model_name": "FloatProgressModel",
            "bar_style": "success",
            "max": 1,
            "_view_module": "@jupyter-widgets/controls",
            "_model_module_version": "1.5.0",
            "value": 1,
            "_view_count": null,
            "_view_module_version": "1.5.0",
            "orientation": "horizontal",
            "min": 0,
            "description_tooltip": null,
            "_model_module": "@jupyter-widgets/controls",
            "layout": "IPY_MODEL_bd01fc2837f14746838c90da6f6856e3"
          }
        },
        "574d9f13a6c94044bb45c33d68ff39ae": {
          "model_module": "@jupyter-widgets/controls",
          "model_name": "HTMLModel",
          "state": {
            "_view_name": "HTMLView",
            "style": "IPY_MODEL_844035569fa44d619a4e2186b18ecc11",
            "_dom_classes": [],
            "description": "",
            "_model_name": "HTMLModel",
            "placeholder": "​",
            "_view_module": "@jupyter-widgets/controls",
            "_model_module_version": "1.5.0",
            "value": " 1/1 [00:08&lt;00:00,  8.58s/ url]",
            "_view_count": null,
            "_view_module_version": "1.5.0",
            "description_tooltip": null,
            "_model_module": "@jupyter-widgets/controls",
            "layout": "IPY_MODEL_4aa73ba28bad407a9b94a6d4254614d7"
          }
        },
        "536817a85f1e491b9aef55f9560cc516": {
          "model_module": "@jupyter-widgets/controls",
          "model_name": "ProgressStyleModel",
          "state": {
            "_view_name": "StyleView",
            "_model_name": "ProgressStyleModel",
            "description_width": "initial",
            "_view_module": "@jupyter-widgets/base",
            "_model_module_version": "1.5.0",
            "_view_count": null,
            "_view_module_version": "1.2.0",
            "bar_color": null,
            "_model_module": "@jupyter-widgets/controls"
          }
        },
        "bd01fc2837f14746838c90da6f6856e3": {
          "model_module": "@jupyter-widgets/base",
          "model_name": "LayoutModel",
          "state": {
            "_view_name": "LayoutView",
            "grid_template_rows": null,
            "right": null,
            "justify_content": null,
            "_view_module": "@jupyter-widgets/base",
            "overflow": null,
            "_model_module_version": "1.2.0",
            "_view_count": null,
            "flex_flow": null,
            "width": null,
            "min_width": null,
            "border": null,
            "align_items": null,
            "bottom": null,
            "_model_module": "@jupyter-widgets/base",
            "top": null,
            "grid_column": null,
            "overflow_y": null,
            "overflow_x": null,
            "grid_auto_flow": null,
            "grid_area": null,
            "grid_template_columns": null,
            "flex": null,
            "_model_name": "LayoutModel",
            "justify_items": null,
            "grid_row": null,
            "max_height": null,
            "align_content": null,
            "visibility": null,
            "align_self": null,
            "height": null,
            "min_height": null,
            "padding": null,
            "grid_auto_rows": null,
            "grid_gap": null,
            "max_width": null,
            "order": null,
            "_view_module_version": "1.2.0",
            "grid_template_areas": null,
            "object_position": null,
            "object_fit": null,
            "grid_auto_columns": null,
            "margin": null,
            "display": null,
            "left": null
          }
        },
        "844035569fa44d619a4e2186b18ecc11": {
          "model_module": "@jupyter-widgets/controls",
          "model_name": "DescriptionStyleModel",
          "state": {
            "_view_name": "StyleView",
            "_model_name": "DescriptionStyleModel",
            "description_width": "",
            "_view_module": "@jupyter-widgets/base",
            "_model_module_version": "1.5.0",
            "_view_count": null,
            "_view_module_version": "1.2.0",
            "_model_module": "@jupyter-widgets/controls"
          }
        },
        "4aa73ba28bad407a9b94a6d4254614d7": {
          "model_module": "@jupyter-widgets/base",
          "model_name": "LayoutModel",
          "state": {
            "_view_name": "LayoutView",
            "grid_template_rows": null,
            "right": null,
            "justify_content": null,
            "_view_module": "@jupyter-widgets/base",
            "overflow": null,
            "_model_module_version": "1.2.0",
            "_view_count": null,
            "flex_flow": null,
            "width": null,
            "min_width": null,
            "border": null,
            "align_items": null,
            "bottom": null,
            "_model_module": "@jupyter-widgets/base",
            "top": null,
            "grid_column": null,
            "overflow_y": null,
            "overflow_x": null,
            "grid_auto_flow": null,
            "grid_area": null,
            "grid_template_columns": null,
            "flex": null,
            "_model_name": "LayoutModel",
            "justify_items": null,
            "grid_row": null,
            "max_height": null,
            "align_content": null,
            "visibility": null,
            "align_self": null,
            "height": null,
            "min_height": null,
            "padding": null,
            "grid_auto_rows": null,
            "grid_gap": null,
            "max_width": null,
            "order": null,
            "_view_module_version": "1.2.0",
            "grid_template_areas": null,
            "object_position": null,
            "object_fit": null,
            "grid_auto_columns": null,
            "margin": null,
            "display": null,
            "left": null
          }
        },
        "00627ac9443640bea379b821c85e6ff6": {
          "model_module": "@jupyter-widgets/controls",
          "model_name": "HBoxModel",
          "state": {
            "_view_name": "HBoxView",
            "_dom_classes": [],
            "_model_name": "HBoxModel",
            "_view_module": "@jupyter-widgets/controls",
            "_model_module_version": "1.5.0",
            "_view_count": null,
            "_view_module_version": "1.5.0",
            "box_style": "",
            "layout": "IPY_MODEL_7b45435d40304b9a8a8925fe89bda694",
            "_model_module": "@jupyter-widgets/controls",
            "children": [
              "IPY_MODEL_2e067afa15c74983b8e36aee748e9740",
              "IPY_MODEL_45b86370c90b44a9a3e12c99a1e91e7e"
            ]
          }
        },
        "7b45435d40304b9a8a8925fe89bda694": {
          "model_module": "@jupyter-widgets/base",
          "model_name": "LayoutModel",
          "state": {
            "_view_name": "LayoutView",
            "grid_template_rows": null,
            "right": null,
            "justify_content": null,
            "_view_module": "@jupyter-widgets/base",
            "overflow": null,
            "_model_module_version": "1.2.0",
            "_view_count": null,
            "flex_flow": null,
            "width": null,
            "min_width": null,
            "border": null,
            "align_items": null,
            "bottom": null,
            "_model_module": "@jupyter-widgets/base",
            "top": null,
            "grid_column": null,
            "overflow_y": null,
            "overflow_x": null,
            "grid_auto_flow": null,
            "grid_area": null,
            "grid_template_columns": null,
            "flex": null,
            "_model_name": "LayoutModel",
            "justify_items": null,
            "grid_row": null,
            "max_height": null,
            "align_content": null,
            "visibility": null,
            "align_self": null,
            "height": null,
            "min_height": null,
            "padding": null,
            "grid_auto_rows": null,
            "grid_gap": null,
            "max_width": null,
            "order": null,
            "_view_module_version": "1.2.0",
            "grid_template_areas": null,
            "object_position": null,
            "object_fit": null,
            "grid_auto_columns": null,
            "margin": null,
            "display": null,
            "left": null
          }
        },
        "2e067afa15c74983b8e36aee748e9740": {
          "model_module": "@jupyter-widgets/controls",
          "model_name": "FloatProgressModel",
          "state": {
            "_view_name": "ProgressView",
            "style": "IPY_MODEL_442a777191624d799db2ae74877ae67e",
            "_dom_classes": [],
            "description": "Dl Size...: 100%",
            "_model_name": "FloatProgressModel",
            "bar_style": "success",
            "max": 1,
            "_view_module": "@jupyter-widgets/controls",
            "_model_module_version": "1.5.0",
            "value": 1,
            "_view_count": null,
            "_view_module_version": "1.5.0",
            "orientation": "horizontal",
            "min": 0,
            "description_tooltip": null,
            "_model_module": "@jupyter-widgets/controls",
            "layout": "IPY_MODEL_6b4fea165e9747cdbddd07f5ed8dff67"
          }
        },
        "45b86370c90b44a9a3e12c99a1e91e7e": {
          "model_module": "@jupyter-widgets/controls",
          "model_name": "HTMLModel",
          "state": {
            "_view_name": "HTMLView",
            "style": "IPY_MODEL_f7d6d60d586c4c228574d60a020f49c9",
            "_dom_classes": [],
            "description": "",
            "_model_name": "HTMLModel",
            "placeholder": "​",
            "_view_module": "@jupyter-widgets/controls",
            "_model_module_version": "1.5.0",
            "value": " 80/80 [00:08&lt;00:00,  9.36 MiB/s]",
            "_view_count": null,
            "_view_module_version": "1.5.0",
            "description_tooltip": null,
            "_model_module": "@jupyter-widgets/controls",
            "layout": "IPY_MODEL_4a35b72079af42adb3c4f9bbea295d8b"
          }
        },
        "442a777191624d799db2ae74877ae67e": {
          "model_module": "@jupyter-widgets/controls",
          "model_name": "ProgressStyleModel",
          "state": {
            "_view_name": "StyleView",
            "_model_name": "ProgressStyleModel",
            "description_width": "initial",
            "_view_module": "@jupyter-widgets/base",
            "_model_module_version": "1.5.0",
            "_view_count": null,
            "_view_module_version": "1.2.0",
            "bar_color": null,
            "_model_module": "@jupyter-widgets/controls"
          }
        },
        "6b4fea165e9747cdbddd07f5ed8dff67": {
          "model_module": "@jupyter-widgets/base",
          "model_name": "LayoutModel",
          "state": {
            "_view_name": "LayoutView",
            "grid_template_rows": null,
            "right": null,
            "justify_content": null,
            "_view_module": "@jupyter-widgets/base",
            "overflow": null,
            "_model_module_version": "1.2.0",
            "_view_count": null,
            "flex_flow": null,
            "width": null,
            "min_width": null,
            "border": null,
            "align_items": null,
            "bottom": null,
            "_model_module": "@jupyter-widgets/base",
            "top": null,
            "grid_column": null,
            "overflow_y": null,
            "overflow_x": null,
            "grid_auto_flow": null,
            "grid_area": null,
            "grid_template_columns": null,
            "flex": null,
            "_model_name": "LayoutModel",
            "justify_items": null,
            "grid_row": null,
            "max_height": null,
            "align_content": null,
            "visibility": null,
            "align_self": null,
            "height": null,
            "min_height": null,
            "padding": null,
            "grid_auto_rows": null,
            "grid_gap": null,
            "max_width": null,
            "order": null,
            "_view_module_version": "1.2.0",
            "grid_template_areas": null,
            "object_position": null,
            "object_fit": null,
            "grid_auto_columns": null,
            "margin": null,
            "display": null,
            "left": null
          }
        },
        "f7d6d60d586c4c228574d60a020f49c9": {
          "model_module": "@jupyter-widgets/controls",
          "model_name": "DescriptionStyleModel",
          "state": {
            "_view_name": "StyleView",
            "_model_name": "DescriptionStyleModel",
            "description_width": "",
            "_view_module": "@jupyter-widgets/base",
            "_model_module_version": "1.5.0",
            "_view_count": null,
            "_view_module_version": "1.2.0",
            "_model_module": "@jupyter-widgets/controls"
          }
        },
        "4a35b72079af42adb3c4f9bbea295d8b": {
          "model_module": "@jupyter-widgets/base",
          "model_name": "LayoutModel",
          "state": {
            "_view_name": "LayoutView",
            "grid_template_rows": null,
            "right": null,
            "justify_content": null,
            "_view_module": "@jupyter-widgets/base",
            "overflow": null,
            "_model_module_version": "1.2.0",
            "_view_count": null,
            "flex_flow": null,
            "width": null,
            "min_width": null,
            "border": null,
            "align_items": null,
            "bottom": null,
            "_model_module": "@jupyter-widgets/base",
            "top": null,
            "grid_column": null,
            "overflow_y": null,
            "overflow_x": null,
            "grid_auto_flow": null,
            "grid_area": null,
            "grid_template_columns": null,
            "flex": null,
            "_model_name": "LayoutModel",
            "justify_items": null,
            "grid_row": null,
            "max_height": null,
            "align_content": null,
            "visibility": null,
            "align_self": null,
            "height": null,
            "min_height": null,
            "padding": null,
            "grid_auto_rows": null,
            "grid_gap": null,
            "max_width": null,
            "order": null,
            "_view_module_version": "1.2.0",
            "grid_template_areas": null,
            "object_position": null,
            "object_fit": null,
            "grid_auto_columns": null,
            "margin": null,
            "display": null,
            "left": null
          }
        },
        "d8c6f98e22c54c66846a617eb5e35470": {
          "model_module": "@jupyter-widgets/controls",
          "model_name": "HBoxModel",
          "state": {
            "_view_name": "HBoxView",
            "_dom_classes": [],
            "_model_name": "HBoxModel",
            "_view_module": "@jupyter-widgets/controls",
            "_model_module_version": "1.5.0",
            "_view_count": null,
            "_view_module_version": "1.5.0",
            "box_style": "",
            "layout": "IPY_MODEL_bc32222d1a3c4305aec1762ff6611756",
            "_model_module": "@jupyter-widgets/controls",
            "children": [
              "IPY_MODEL_b03e2a9636124c71a7a7fe44f839e759",
              "IPY_MODEL_6c66996ddb5d407bbbaeaf2efa037fcf"
            ]
          }
        },
        "bc32222d1a3c4305aec1762ff6611756": {
          "model_module": "@jupyter-widgets/base",
          "model_name": "LayoutModel",
          "state": {
            "_view_name": "LayoutView",
            "grid_template_rows": null,
            "right": null,
            "justify_content": null,
            "_view_module": "@jupyter-widgets/base",
            "overflow": null,
            "_model_module_version": "1.2.0",
            "_view_count": null,
            "flex_flow": null,
            "width": null,
            "min_width": null,
            "border": null,
            "align_items": null,
            "bottom": null,
            "_model_module": "@jupyter-widgets/base",
            "top": null,
            "grid_column": null,
            "overflow_y": null,
            "overflow_x": null,
            "grid_auto_flow": null,
            "grid_area": null,
            "grid_template_columns": null,
            "flex": null,
            "_model_name": "LayoutModel",
            "justify_items": null,
            "grid_row": null,
            "max_height": null,
            "align_content": null,
            "visibility": null,
            "align_self": null,
            "height": null,
            "min_height": null,
            "padding": null,
            "grid_auto_rows": null,
            "grid_gap": null,
            "max_width": null,
            "order": null,
            "_view_module_version": "1.2.0",
            "grid_template_areas": null,
            "object_position": null,
            "object_fit": null,
            "grid_auto_columns": null,
            "margin": null,
            "display": null,
            "left": null
          }
        },
        "b03e2a9636124c71a7a7fe44f839e759": {
          "model_module": "@jupyter-widgets/controls",
          "model_name": "FloatProgressModel",
          "state": {
            "_view_name": "ProgressView",
            "style": "IPY_MODEL_5fb331263c464671bd71cbe1c03f1135",
            "_dom_classes": [],
            "description": "",
            "_model_name": "FloatProgressModel",
            "bar_style": "info",
            "max": 1,
            "_view_module": "@jupyter-widgets/controls",
            "_model_module_version": "1.5.0",
            "value": 1,
            "_view_count": null,
            "_view_module_version": "1.5.0",
            "orientation": "horizontal",
            "min": 0,
            "description_tooltip": null,
            "_model_module": "@jupyter-widgets/controls",
            "layout": "IPY_MODEL_e397843c58fe4935a898fc5c46501cd7"
          }
        },
        "6c66996ddb5d407bbbaeaf2efa037fcf": {
          "model_module": "@jupyter-widgets/controls",
          "model_name": "HTMLModel",
          "state": {
            "_view_name": "HTMLView",
            "style": "IPY_MODEL_c6bdb8fa370942bcaf131b3ced514916",
            "_dom_classes": [],
            "description": "",
            "_model_name": "HTMLModel",
            "placeholder": "​",
            "_view_module": "@jupyter-widgets/controls",
            "_model_module_version": "1.5.0",
            "value": " 25000/0 [00:12&lt;00:00, 3339.11 examples/s]",
            "_view_count": null,
            "_view_module_version": "1.5.0",
            "description_tooltip": null,
            "_model_module": "@jupyter-widgets/controls",
            "layout": "IPY_MODEL_7f8f62e762ca44e1b0772170ac1f6fb5"
          }
        },
        "5fb331263c464671bd71cbe1c03f1135": {
          "model_module": "@jupyter-widgets/controls",
          "model_name": "ProgressStyleModel",
          "state": {
            "_view_name": "StyleView",
            "_model_name": "ProgressStyleModel",
            "description_width": "initial",
            "_view_module": "@jupyter-widgets/base",
            "_model_module_version": "1.5.0",
            "_view_count": null,
            "_view_module_version": "1.2.0",
            "bar_color": null,
            "_model_module": "@jupyter-widgets/controls"
          }
        },
        "e397843c58fe4935a898fc5c46501cd7": {
          "model_module": "@jupyter-widgets/base",
          "model_name": "LayoutModel",
          "state": {
            "_view_name": "LayoutView",
            "grid_template_rows": null,
            "right": null,
            "justify_content": null,
            "_view_module": "@jupyter-widgets/base",
            "overflow": null,
            "_model_module_version": "1.2.0",
            "_view_count": null,
            "flex_flow": null,
            "width": null,
            "min_width": null,
            "border": null,
            "align_items": null,
            "bottom": null,
            "_model_module": "@jupyter-widgets/base",
            "top": null,
            "grid_column": null,
            "overflow_y": null,
            "overflow_x": null,
            "grid_auto_flow": null,
            "grid_area": null,
            "grid_template_columns": null,
            "flex": null,
            "_model_name": "LayoutModel",
            "justify_items": null,
            "grid_row": null,
            "max_height": null,
            "align_content": null,
            "visibility": null,
            "align_self": null,
            "height": null,
            "min_height": null,
            "padding": null,
            "grid_auto_rows": null,
            "grid_gap": null,
            "max_width": null,
            "order": null,
            "_view_module_version": "1.2.0",
            "grid_template_areas": null,
            "object_position": null,
            "object_fit": null,
            "grid_auto_columns": null,
            "margin": null,
            "display": null,
            "left": null
          }
        },
        "c6bdb8fa370942bcaf131b3ced514916": {
          "model_module": "@jupyter-widgets/controls",
          "model_name": "DescriptionStyleModel",
          "state": {
            "_view_name": "StyleView",
            "_model_name": "DescriptionStyleModel",
            "description_width": "",
            "_view_module": "@jupyter-widgets/base",
            "_model_module_version": "1.5.0",
            "_view_count": null,
            "_view_module_version": "1.2.0",
            "_model_module": "@jupyter-widgets/controls"
          }
        },
        "7f8f62e762ca44e1b0772170ac1f6fb5": {
          "model_module": "@jupyter-widgets/base",
          "model_name": "LayoutModel",
          "state": {
            "_view_name": "LayoutView",
            "grid_template_rows": null,
            "right": null,
            "justify_content": null,
            "_view_module": "@jupyter-widgets/base",
            "overflow": null,
            "_model_module_version": "1.2.0",
            "_view_count": null,
            "flex_flow": null,
            "width": null,
            "min_width": null,
            "border": null,
            "align_items": null,
            "bottom": null,
            "_model_module": "@jupyter-widgets/base",
            "top": null,
            "grid_column": null,
            "overflow_y": null,
            "overflow_x": null,
            "grid_auto_flow": null,
            "grid_area": null,
            "grid_template_columns": null,
            "flex": null,
            "_model_name": "LayoutModel",
            "justify_items": null,
            "grid_row": null,
            "max_height": null,
            "align_content": null,
            "visibility": null,
            "align_self": null,
            "height": null,
            "min_height": null,
            "padding": null,
            "grid_auto_rows": null,
            "grid_gap": null,
            "max_width": null,
            "order": null,
            "_view_module_version": "1.2.0",
            "grid_template_areas": null,
            "object_position": null,
            "object_fit": null,
            "grid_auto_columns": null,
            "margin": null,
            "display": null,
            "left": null
          }
        },
        "2cdf148d4d9d4843b1a1dff43c772632": {
          "model_module": "@jupyter-widgets/controls",
          "model_name": "HBoxModel",
          "state": {
            "_view_name": "HBoxView",
            "_dom_classes": [],
            "_model_name": "HBoxModel",
            "_view_module": "@jupyter-widgets/controls",
            "_model_module_version": "1.5.0",
            "_view_count": null,
            "_view_module_version": "1.5.0",
            "box_style": "",
            "layout": "IPY_MODEL_4b83e49e30584a088224ea2afd982091",
            "_model_module": "@jupyter-widgets/controls",
            "children": [
              "IPY_MODEL_227f5296d2b04c6ca0a2b602ab6ebffe",
              "IPY_MODEL_e182415c1861422585200ad46d8991df"
            ]
          }
        },
        "4b83e49e30584a088224ea2afd982091": {
          "model_module": "@jupyter-widgets/base",
          "model_name": "LayoutModel",
          "state": {
            "_view_name": "LayoutView",
            "grid_template_rows": null,
            "right": null,
            "justify_content": null,
            "_view_module": "@jupyter-widgets/base",
            "overflow": null,
            "_model_module_version": "1.2.0",
            "_view_count": null,
            "flex_flow": null,
            "width": null,
            "min_width": null,
            "border": null,
            "align_items": null,
            "bottom": null,
            "_model_module": "@jupyter-widgets/base",
            "top": null,
            "grid_column": null,
            "overflow_y": null,
            "overflow_x": null,
            "grid_auto_flow": null,
            "grid_area": null,
            "grid_template_columns": null,
            "flex": null,
            "_model_name": "LayoutModel",
            "justify_items": null,
            "grid_row": null,
            "max_height": null,
            "align_content": null,
            "visibility": null,
            "align_self": null,
            "height": null,
            "min_height": null,
            "padding": null,
            "grid_auto_rows": null,
            "grid_gap": null,
            "max_width": null,
            "order": null,
            "_view_module_version": "1.2.0",
            "grid_template_areas": null,
            "object_position": null,
            "object_fit": null,
            "grid_auto_columns": null,
            "margin": null,
            "display": null,
            "left": null
          }
        },
        "227f5296d2b04c6ca0a2b602ab6ebffe": {
          "model_module": "@jupyter-widgets/controls",
          "model_name": "FloatProgressModel",
          "state": {
            "_view_name": "ProgressView",
            "style": "IPY_MODEL_0f9a6d7770ae4ba2a4b4560c1ac69cdb",
            "_dom_classes": [],
            "description": " 65%",
            "_model_name": "FloatProgressModel",
            "bar_style": "danger",
            "max": 25000,
            "_view_module": "@jupyter-widgets/controls",
            "_model_module_version": "1.5.0",
            "value": 16208,
            "_view_count": null,
            "_view_module_version": "1.5.0",
            "orientation": "horizontal",
            "min": 0,
            "description_tooltip": null,
            "_model_module": "@jupyter-widgets/controls",
            "layout": "IPY_MODEL_8af93eb3f8df4bb38f94319d268c3b04"
          }
        },
        "e182415c1861422585200ad46d8991df": {
          "model_module": "@jupyter-widgets/controls",
          "model_name": "HTMLModel",
          "state": {
            "_view_name": "HTMLView",
            "style": "IPY_MODEL_9142b41ce25d446cac85c07c99cdfbe3",
            "_dom_classes": [],
            "description": "",
            "_model_name": "HTMLModel",
            "placeholder": "​",
            "_view_module": "@jupyter-widgets/controls",
            "_model_module_version": "1.5.0",
            "value": " 16208/25000 [00:00&lt;00:00, 162079.38 examples/s]",
            "_view_count": null,
            "_view_module_version": "1.5.0",
            "description_tooltip": null,
            "_model_module": "@jupyter-widgets/controls",
            "layout": "IPY_MODEL_9b7e6f5ddbe349699b1feda8de223a40"
          }
        },
        "0f9a6d7770ae4ba2a4b4560c1ac69cdb": {
          "model_module": "@jupyter-widgets/controls",
          "model_name": "ProgressStyleModel",
          "state": {
            "_view_name": "StyleView",
            "_model_name": "ProgressStyleModel",
            "description_width": "initial",
            "_view_module": "@jupyter-widgets/base",
            "_model_module_version": "1.5.0",
            "_view_count": null,
            "_view_module_version": "1.2.0",
            "bar_color": null,
            "_model_module": "@jupyter-widgets/controls"
          }
        },
        "8af93eb3f8df4bb38f94319d268c3b04": {
          "model_module": "@jupyter-widgets/base",
          "model_name": "LayoutModel",
          "state": {
            "_view_name": "LayoutView",
            "grid_template_rows": null,
            "right": null,
            "justify_content": null,
            "_view_module": "@jupyter-widgets/base",
            "overflow": null,
            "_model_module_version": "1.2.0",
            "_view_count": null,
            "flex_flow": null,
            "width": null,
            "min_width": null,
            "border": null,
            "align_items": null,
            "bottom": null,
            "_model_module": "@jupyter-widgets/base",
            "top": null,
            "grid_column": null,
            "overflow_y": null,
            "overflow_x": null,
            "grid_auto_flow": null,
            "grid_area": null,
            "grid_template_columns": null,
            "flex": null,
            "_model_name": "LayoutModel",
            "justify_items": null,
            "grid_row": null,
            "max_height": null,
            "align_content": null,
            "visibility": null,
            "align_self": null,
            "height": null,
            "min_height": null,
            "padding": null,
            "grid_auto_rows": null,
            "grid_gap": null,
            "max_width": null,
            "order": null,
            "_view_module_version": "1.2.0",
            "grid_template_areas": null,
            "object_position": null,
            "object_fit": null,
            "grid_auto_columns": null,
            "margin": null,
            "display": null,
            "left": null
          }
        },
        "9142b41ce25d446cac85c07c99cdfbe3": {
          "model_module": "@jupyter-widgets/controls",
          "model_name": "DescriptionStyleModel",
          "state": {
            "_view_name": "StyleView",
            "_model_name": "DescriptionStyleModel",
            "description_width": "",
            "_view_module": "@jupyter-widgets/base",
            "_model_module_version": "1.5.0",
            "_view_count": null,
            "_view_module_version": "1.2.0",
            "_model_module": "@jupyter-widgets/controls"
          }
        },
        "9b7e6f5ddbe349699b1feda8de223a40": {
          "model_module": "@jupyter-widgets/base",
          "model_name": "LayoutModel",
          "state": {
            "_view_name": "LayoutView",
            "grid_template_rows": null,
            "right": null,
            "justify_content": null,
            "_view_module": "@jupyter-widgets/base",
            "overflow": null,
            "_model_module_version": "1.2.0",
            "_view_count": null,
            "flex_flow": null,
            "width": null,
            "min_width": null,
            "border": null,
            "align_items": null,
            "bottom": null,
            "_model_module": "@jupyter-widgets/base",
            "top": null,
            "grid_column": null,
            "overflow_y": null,
            "overflow_x": null,
            "grid_auto_flow": null,
            "grid_area": null,
            "grid_template_columns": null,
            "flex": null,
            "_model_name": "LayoutModel",
            "justify_items": null,
            "grid_row": null,
            "max_height": null,
            "align_content": null,
            "visibility": null,
            "align_self": null,
            "height": null,
            "min_height": null,
            "padding": null,
            "grid_auto_rows": null,
            "grid_gap": null,
            "max_width": null,
            "order": null,
            "_view_module_version": "1.2.0",
            "grid_template_areas": null,
            "object_position": null,
            "object_fit": null,
            "grid_auto_columns": null,
            "margin": null,
            "display": null,
            "left": null
          }
        },
        "a44374a137db434f869884501f0bddd4": {
          "model_module": "@jupyter-widgets/controls",
          "model_name": "HBoxModel",
          "state": {
            "_view_name": "HBoxView",
            "_dom_classes": [],
            "_model_name": "HBoxModel",
            "_view_module": "@jupyter-widgets/controls",
            "_model_module_version": "1.5.0",
            "_view_count": null,
            "_view_module_version": "1.5.0",
            "box_style": "",
            "layout": "IPY_MODEL_9087db436a5746eeb912e32a82c30b66",
            "_model_module": "@jupyter-widgets/controls",
            "children": [
              "IPY_MODEL_4d3705b8eec449bb9d18735a89a6479d",
              "IPY_MODEL_3b974498a08241419a404ba83c216b06"
            ]
          }
        },
        "9087db436a5746eeb912e32a82c30b66": {
          "model_module": "@jupyter-widgets/base",
          "model_name": "LayoutModel",
          "state": {
            "_view_name": "LayoutView",
            "grid_template_rows": null,
            "right": null,
            "justify_content": null,
            "_view_module": "@jupyter-widgets/base",
            "overflow": null,
            "_model_module_version": "1.2.0",
            "_view_count": null,
            "flex_flow": null,
            "width": null,
            "min_width": null,
            "border": null,
            "align_items": null,
            "bottom": null,
            "_model_module": "@jupyter-widgets/base",
            "top": null,
            "grid_column": null,
            "overflow_y": null,
            "overflow_x": null,
            "grid_auto_flow": null,
            "grid_area": null,
            "grid_template_columns": null,
            "flex": null,
            "_model_name": "LayoutModel",
            "justify_items": null,
            "grid_row": null,
            "max_height": null,
            "align_content": null,
            "visibility": null,
            "align_self": null,
            "height": null,
            "min_height": null,
            "padding": null,
            "grid_auto_rows": null,
            "grid_gap": null,
            "max_width": null,
            "order": null,
            "_view_module_version": "1.2.0",
            "grid_template_areas": null,
            "object_position": null,
            "object_fit": null,
            "grid_auto_columns": null,
            "margin": null,
            "display": null,
            "left": null
          }
        },
        "4d3705b8eec449bb9d18735a89a6479d": {
          "model_module": "@jupyter-widgets/controls",
          "model_name": "FloatProgressModel",
          "state": {
            "_view_name": "ProgressView",
            "style": "IPY_MODEL_360bef25387142499ea2bcca4e9ae913",
            "_dom_classes": [],
            "description": "",
            "_model_name": "FloatProgressModel",
            "bar_style": "info",
            "max": 1,
            "_view_module": "@jupyter-widgets/controls",
            "_model_module_version": "1.5.0",
            "value": 1,
            "_view_count": null,
            "_view_module_version": "1.5.0",
            "orientation": "horizontal",
            "min": 0,
            "description_tooltip": null,
            "_model_module": "@jupyter-widgets/controls",
            "layout": "IPY_MODEL_4256bd6c9d474c04939d4e190a124d2c"
          }
        },
        "3b974498a08241419a404ba83c216b06": {
          "model_module": "@jupyter-widgets/controls",
          "model_name": "HTMLModel",
          "state": {
            "_view_name": "HTMLView",
            "style": "IPY_MODEL_d04057d0745a4ddb912d16d5f079c6f3",
            "_dom_classes": [],
            "description": "",
            "_model_name": "HTMLModel",
            "placeholder": "​",
            "_view_module": "@jupyter-widgets/controls",
            "_model_module_version": "1.5.0",
            "value": " 25000/0 [00:12&lt;00:00, 3599.58 examples/s]",
            "_view_count": null,
            "_view_module_version": "1.5.0",
            "description_tooltip": null,
            "_model_module": "@jupyter-widgets/controls",
            "layout": "IPY_MODEL_73dd2634471942909100da158de5321b"
          }
        },
        "360bef25387142499ea2bcca4e9ae913": {
          "model_module": "@jupyter-widgets/controls",
          "model_name": "ProgressStyleModel",
          "state": {
            "_view_name": "StyleView",
            "_model_name": "ProgressStyleModel",
            "description_width": "initial",
            "_view_module": "@jupyter-widgets/base",
            "_model_module_version": "1.5.0",
            "_view_count": null,
            "_view_module_version": "1.2.0",
            "bar_color": null,
            "_model_module": "@jupyter-widgets/controls"
          }
        },
        "4256bd6c9d474c04939d4e190a124d2c": {
          "model_module": "@jupyter-widgets/base",
          "model_name": "LayoutModel",
          "state": {
            "_view_name": "LayoutView",
            "grid_template_rows": null,
            "right": null,
            "justify_content": null,
            "_view_module": "@jupyter-widgets/base",
            "overflow": null,
            "_model_module_version": "1.2.0",
            "_view_count": null,
            "flex_flow": null,
            "width": null,
            "min_width": null,
            "border": null,
            "align_items": null,
            "bottom": null,
            "_model_module": "@jupyter-widgets/base",
            "top": null,
            "grid_column": null,
            "overflow_y": null,
            "overflow_x": null,
            "grid_auto_flow": null,
            "grid_area": null,
            "grid_template_columns": null,
            "flex": null,
            "_model_name": "LayoutModel",
            "justify_items": null,
            "grid_row": null,
            "max_height": null,
            "align_content": null,
            "visibility": null,
            "align_self": null,
            "height": null,
            "min_height": null,
            "padding": null,
            "grid_auto_rows": null,
            "grid_gap": null,
            "max_width": null,
            "order": null,
            "_view_module_version": "1.2.0",
            "grid_template_areas": null,
            "object_position": null,
            "object_fit": null,
            "grid_auto_columns": null,
            "margin": null,
            "display": null,
            "left": null
          }
        },
        "d04057d0745a4ddb912d16d5f079c6f3": {
          "model_module": "@jupyter-widgets/controls",
          "model_name": "DescriptionStyleModel",
          "state": {
            "_view_name": "StyleView",
            "_model_name": "DescriptionStyleModel",
            "description_width": "",
            "_view_module": "@jupyter-widgets/base",
            "_model_module_version": "1.5.0",
            "_view_count": null,
            "_view_module_version": "1.2.0",
            "_model_module": "@jupyter-widgets/controls"
          }
        },
        "73dd2634471942909100da158de5321b": {
          "model_module": "@jupyter-widgets/base",
          "model_name": "LayoutModel",
          "state": {
            "_view_name": "LayoutView",
            "grid_template_rows": null,
            "right": null,
            "justify_content": null,
            "_view_module": "@jupyter-widgets/base",
            "overflow": null,
            "_model_module_version": "1.2.0",
            "_view_count": null,
            "flex_flow": null,
            "width": null,
            "min_width": null,
            "border": null,
            "align_items": null,
            "bottom": null,
            "_model_module": "@jupyter-widgets/base",
            "top": null,
            "grid_column": null,
            "overflow_y": null,
            "overflow_x": null,
            "grid_auto_flow": null,
            "grid_area": null,
            "grid_template_columns": null,
            "flex": null,
            "_model_name": "LayoutModel",
            "justify_items": null,
            "grid_row": null,
            "max_height": null,
            "align_content": null,
            "visibility": null,
            "align_self": null,
            "height": null,
            "min_height": null,
            "padding": null,
            "grid_auto_rows": null,
            "grid_gap": null,
            "max_width": null,
            "order": null,
            "_view_module_version": "1.2.0",
            "grid_template_areas": null,
            "object_position": null,
            "object_fit": null,
            "grid_auto_columns": null,
            "margin": null,
            "display": null,
            "left": null
          }
        },
        "dfa772e0a50e48828388d1c19736643d": {
          "model_module": "@jupyter-widgets/controls",
          "model_name": "HBoxModel",
          "state": {
            "_view_name": "HBoxView",
            "_dom_classes": [],
            "_model_name": "HBoxModel",
            "_view_module": "@jupyter-widgets/controls",
            "_model_module_version": "1.5.0",
            "_view_count": null,
            "_view_module_version": "1.5.0",
            "box_style": "",
            "layout": "IPY_MODEL_3cb235b9c410446296d90463c6155796",
            "_model_module": "@jupyter-widgets/controls",
            "children": [
              "IPY_MODEL_2822a1bb31164bb783f4f12d23d712cb",
              "IPY_MODEL_8419e1a969254b22aea64252aca97aa7"
            ]
          }
        },
        "3cb235b9c410446296d90463c6155796": {
          "model_module": "@jupyter-widgets/base",
          "model_name": "LayoutModel",
          "state": {
            "_view_name": "LayoutView",
            "grid_template_rows": null,
            "right": null,
            "justify_content": null,
            "_view_module": "@jupyter-widgets/base",
            "overflow": null,
            "_model_module_version": "1.2.0",
            "_view_count": null,
            "flex_flow": null,
            "width": null,
            "min_width": null,
            "border": null,
            "align_items": null,
            "bottom": null,
            "_model_module": "@jupyter-widgets/base",
            "top": null,
            "grid_column": null,
            "overflow_y": null,
            "overflow_x": null,
            "grid_auto_flow": null,
            "grid_area": null,
            "grid_template_columns": null,
            "flex": null,
            "_model_name": "LayoutModel",
            "justify_items": null,
            "grid_row": null,
            "max_height": null,
            "align_content": null,
            "visibility": null,
            "align_self": null,
            "height": null,
            "min_height": null,
            "padding": null,
            "grid_auto_rows": null,
            "grid_gap": null,
            "max_width": null,
            "order": null,
            "_view_module_version": "1.2.0",
            "grid_template_areas": null,
            "object_position": null,
            "object_fit": null,
            "grid_auto_columns": null,
            "margin": null,
            "display": null,
            "left": null
          }
        },
        "2822a1bb31164bb783f4f12d23d712cb": {
          "model_module": "@jupyter-widgets/controls",
          "model_name": "FloatProgressModel",
          "state": {
            "_view_name": "ProgressView",
            "style": "IPY_MODEL_ca7192cbedda4cd8a268e024fb4fbf5e",
            "_dom_classes": [],
            "description": " 60%",
            "_model_name": "FloatProgressModel",
            "bar_style": "danger",
            "max": 25000,
            "_view_module": "@jupyter-widgets/controls",
            "_model_module_version": "1.5.0",
            "value": 14927,
            "_view_count": null,
            "_view_module_version": "1.5.0",
            "orientation": "horizontal",
            "min": 0,
            "description_tooltip": null,
            "_model_module": "@jupyter-widgets/controls",
            "layout": "IPY_MODEL_c241d744269c42fbbed4040bea638a3d"
          }
        },
        "8419e1a969254b22aea64252aca97aa7": {
          "model_module": "@jupyter-widgets/controls",
          "model_name": "HTMLModel",
          "state": {
            "_view_name": "HTMLView",
            "style": "IPY_MODEL_3266e0256fb64021a7f86cef4d6a1216",
            "_dom_classes": [],
            "description": "",
            "_model_name": "HTMLModel",
            "placeholder": "​",
            "_view_module": "@jupyter-widgets/controls",
            "_model_module_version": "1.5.0",
            "value": " 14927/25000 [00:00&lt;00:00, 149263.38 examples/s]",
            "_view_count": null,
            "_view_module_version": "1.5.0",
            "description_tooltip": null,
            "_model_module": "@jupyter-widgets/controls",
            "layout": "IPY_MODEL_8817f9fe8504438899f81c8ccfd43590"
          }
        },
        "ca7192cbedda4cd8a268e024fb4fbf5e": {
          "model_module": "@jupyter-widgets/controls",
          "model_name": "ProgressStyleModel",
          "state": {
            "_view_name": "StyleView",
            "_model_name": "ProgressStyleModel",
            "description_width": "initial",
            "_view_module": "@jupyter-widgets/base",
            "_model_module_version": "1.5.0",
            "_view_count": null,
            "_view_module_version": "1.2.0",
            "bar_color": null,
            "_model_module": "@jupyter-widgets/controls"
          }
        },
        "c241d744269c42fbbed4040bea638a3d": {
          "model_module": "@jupyter-widgets/base",
          "model_name": "LayoutModel",
          "state": {
            "_view_name": "LayoutView",
            "grid_template_rows": null,
            "right": null,
            "justify_content": null,
            "_view_module": "@jupyter-widgets/base",
            "overflow": null,
            "_model_module_version": "1.2.0",
            "_view_count": null,
            "flex_flow": null,
            "width": null,
            "min_width": null,
            "border": null,
            "align_items": null,
            "bottom": null,
            "_model_module": "@jupyter-widgets/base",
            "top": null,
            "grid_column": null,
            "overflow_y": null,
            "overflow_x": null,
            "grid_auto_flow": null,
            "grid_area": null,
            "grid_template_columns": null,
            "flex": null,
            "_model_name": "LayoutModel",
            "justify_items": null,
            "grid_row": null,
            "max_height": null,
            "align_content": null,
            "visibility": null,
            "align_self": null,
            "height": null,
            "min_height": null,
            "padding": null,
            "grid_auto_rows": null,
            "grid_gap": null,
            "max_width": null,
            "order": null,
            "_view_module_version": "1.2.0",
            "grid_template_areas": null,
            "object_position": null,
            "object_fit": null,
            "grid_auto_columns": null,
            "margin": null,
            "display": null,
            "left": null
          }
        },
        "3266e0256fb64021a7f86cef4d6a1216": {
          "model_module": "@jupyter-widgets/controls",
          "model_name": "DescriptionStyleModel",
          "state": {
            "_view_name": "StyleView",
            "_model_name": "DescriptionStyleModel",
            "description_width": "",
            "_view_module": "@jupyter-widgets/base",
            "_model_module_version": "1.5.0",
            "_view_count": null,
            "_view_module_version": "1.2.0",
            "_model_module": "@jupyter-widgets/controls"
          }
        },
        "8817f9fe8504438899f81c8ccfd43590": {
          "model_module": "@jupyter-widgets/base",
          "model_name": "LayoutModel",
          "state": {
            "_view_name": "LayoutView",
            "grid_template_rows": null,
            "right": null,
            "justify_content": null,
            "_view_module": "@jupyter-widgets/base",
            "overflow": null,
            "_model_module_version": "1.2.0",
            "_view_count": null,
            "flex_flow": null,
            "width": null,
            "min_width": null,
            "border": null,
            "align_items": null,
            "bottom": null,
            "_model_module": "@jupyter-widgets/base",
            "top": null,
            "grid_column": null,
            "overflow_y": null,
            "overflow_x": null,
            "grid_auto_flow": null,
            "grid_area": null,
            "grid_template_columns": null,
            "flex": null,
            "_model_name": "LayoutModel",
            "justify_items": null,
            "grid_row": null,
            "max_height": null,
            "align_content": null,
            "visibility": null,
            "align_self": null,
            "height": null,
            "min_height": null,
            "padding": null,
            "grid_auto_rows": null,
            "grid_gap": null,
            "max_width": null,
            "order": null,
            "_view_module_version": "1.2.0",
            "grid_template_areas": null,
            "object_position": null,
            "object_fit": null,
            "grid_auto_columns": null,
            "margin": null,
            "display": null,
            "left": null
          }
        },
        "e960dcf408a346dd96d6478fa4c3f24a": {
          "model_module": "@jupyter-widgets/controls",
          "model_name": "HBoxModel",
          "state": {
            "_view_name": "HBoxView",
            "_dom_classes": [],
            "_model_name": "HBoxModel",
            "_view_module": "@jupyter-widgets/controls",
            "_model_module_version": "1.5.0",
            "_view_count": null,
            "_view_module_version": "1.5.0",
            "box_style": "",
            "layout": "IPY_MODEL_148ff4430cd040829a7c9e0f3186e184",
            "_model_module": "@jupyter-widgets/controls",
            "children": [
              "IPY_MODEL_e32e9adffa7441749f40c2c78acb64ee",
              "IPY_MODEL_517fdadfe3194070ae2c2674d5e9ff2e"
            ]
          }
        },
        "148ff4430cd040829a7c9e0f3186e184": {
          "model_module": "@jupyter-widgets/base",
          "model_name": "LayoutModel",
          "state": {
            "_view_name": "LayoutView",
            "grid_template_rows": null,
            "right": null,
            "justify_content": null,
            "_view_module": "@jupyter-widgets/base",
            "overflow": null,
            "_model_module_version": "1.2.0",
            "_view_count": null,
            "flex_flow": null,
            "width": null,
            "min_width": null,
            "border": null,
            "align_items": null,
            "bottom": null,
            "_model_module": "@jupyter-widgets/base",
            "top": null,
            "grid_column": null,
            "overflow_y": null,
            "overflow_x": null,
            "grid_auto_flow": null,
            "grid_area": null,
            "grid_template_columns": null,
            "flex": null,
            "_model_name": "LayoutModel",
            "justify_items": null,
            "grid_row": null,
            "max_height": null,
            "align_content": null,
            "visibility": null,
            "align_self": null,
            "height": null,
            "min_height": null,
            "padding": null,
            "grid_auto_rows": null,
            "grid_gap": null,
            "max_width": null,
            "order": null,
            "_view_module_version": "1.2.0",
            "grid_template_areas": null,
            "object_position": null,
            "object_fit": null,
            "grid_auto_columns": null,
            "margin": null,
            "display": null,
            "left": null
          }
        },
        "e32e9adffa7441749f40c2c78acb64ee": {
          "model_module": "@jupyter-widgets/controls",
          "model_name": "FloatProgressModel",
          "state": {
            "_view_name": "ProgressView",
            "style": "IPY_MODEL_a94d43bab7614dae941da2c863febd26",
            "_dom_classes": [],
            "description": "",
            "_model_name": "FloatProgressModel",
            "bar_style": "info",
            "max": 1,
            "_view_module": "@jupyter-widgets/controls",
            "_model_module_version": "1.5.0",
            "value": 1,
            "_view_count": null,
            "_view_module_version": "1.5.0",
            "orientation": "horizontal",
            "min": 0,
            "description_tooltip": null,
            "_model_module": "@jupyter-widgets/controls",
            "layout": "IPY_MODEL_c779ac41c97e4b9c92c4d95bea6dd17a"
          }
        },
        "517fdadfe3194070ae2c2674d5e9ff2e": {
          "model_module": "@jupyter-widgets/controls",
          "model_name": "HTMLModel",
          "state": {
            "_view_name": "HTMLView",
            "style": "IPY_MODEL_e0033911316e4cf5a9db1fa36b0e70ed",
            "_dom_classes": [],
            "description": "",
            "_model_name": "HTMLModel",
            "placeholder": "​",
            "_view_module": "@jupyter-widgets/controls",
            "_model_module_version": "1.5.0",
            "value": " 50000/0 [00:17&lt;00:00, 3393.23 examples/s]",
            "_view_count": null,
            "_view_module_version": "1.5.0",
            "description_tooltip": null,
            "_model_module": "@jupyter-widgets/controls",
            "layout": "IPY_MODEL_faf279fa52c1470eaec13e97543f425f"
          }
        },
        "a94d43bab7614dae941da2c863febd26": {
          "model_module": "@jupyter-widgets/controls",
          "model_name": "ProgressStyleModel",
          "state": {
            "_view_name": "StyleView",
            "_model_name": "ProgressStyleModel",
            "description_width": "initial",
            "_view_module": "@jupyter-widgets/base",
            "_model_module_version": "1.5.0",
            "_view_count": null,
            "_view_module_version": "1.2.0",
            "bar_color": null,
            "_model_module": "@jupyter-widgets/controls"
          }
        },
        "c779ac41c97e4b9c92c4d95bea6dd17a": {
          "model_module": "@jupyter-widgets/base",
          "model_name": "LayoutModel",
          "state": {
            "_view_name": "LayoutView",
            "grid_template_rows": null,
            "right": null,
            "justify_content": null,
            "_view_module": "@jupyter-widgets/base",
            "overflow": null,
            "_model_module_version": "1.2.0",
            "_view_count": null,
            "flex_flow": null,
            "width": null,
            "min_width": null,
            "border": null,
            "align_items": null,
            "bottom": null,
            "_model_module": "@jupyter-widgets/base",
            "top": null,
            "grid_column": null,
            "overflow_y": null,
            "overflow_x": null,
            "grid_auto_flow": null,
            "grid_area": null,
            "grid_template_columns": null,
            "flex": null,
            "_model_name": "LayoutModel",
            "justify_items": null,
            "grid_row": null,
            "max_height": null,
            "align_content": null,
            "visibility": null,
            "align_self": null,
            "height": null,
            "min_height": null,
            "padding": null,
            "grid_auto_rows": null,
            "grid_gap": null,
            "max_width": null,
            "order": null,
            "_view_module_version": "1.2.0",
            "grid_template_areas": null,
            "object_position": null,
            "object_fit": null,
            "grid_auto_columns": null,
            "margin": null,
            "display": null,
            "left": null
          }
        },
        "e0033911316e4cf5a9db1fa36b0e70ed": {
          "model_module": "@jupyter-widgets/controls",
          "model_name": "DescriptionStyleModel",
          "state": {
            "_view_name": "StyleView",
            "_model_name": "DescriptionStyleModel",
            "description_width": "",
            "_view_module": "@jupyter-widgets/base",
            "_model_module_version": "1.5.0",
            "_view_count": null,
            "_view_module_version": "1.2.0",
            "_model_module": "@jupyter-widgets/controls"
          }
        },
        "faf279fa52c1470eaec13e97543f425f": {
          "model_module": "@jupyter-widgets/base",
          "model_name": "LayoutModel",
          "state": {
            "_view_name": "LayoutView",
            "grid_template_rows": null,
            "right": null,
            "justify_content": null,
            "_view_module": "@jupyter-widgets/base",
            "overflow": null,
            "_model_module_version": "1.2.0",
            "_view_count": null,
            "flex_flow": null,
            "width": null,
            "min_width": null,
            "border": null,
            "align_items": null,
            "bottom": null,
            "_model_module": "@jupyter-widgets/base",
            "top": null,
            "grid_column": null,
            "overflow_y": null,
            "overflow_x": null,
            "grid_auto_flow": null,
            "grid_area": null,
            "grid_template_columns": null,
            "flex": null,
            "_model_name": "LayoutModel",
            "justify_items": null,
            "grid_row": null,
            "max_height": null,
            "align_content": null,
            "visibility": null,
            "align_self": null,
            "height": null,
            "min_height": null,
            "padding": null,
            "grid_auto_rows": null,
            "grid_gap": null,
            "max_width": null,
            "order": null,
            "_view_module_version": "1.2.0",
            "grid_template_areas": null,
            "object_position": null,
            "object_fit": null,
            "grid_auto_columns": null,
            "margin": null,
            "display": null,
            "left": null
          }
        },
        "788b0e07dc9944ebacc56d3bc122d81f": {
          "model_module": "@jupyter-widgets/controls",
          "model_name": "HBoxModel",
          "state": {
            "_view_name": "HBoxView",
            "_dom_classes": [],
            "_model_name": "HBoxModel",
            "_view_module": "@jupyter-widgets/controls",
            "_model_module_version": "1.5.0",
            "_view_count": null,
            "_view_module_version": "1.5.0",
            "box_style": "",
            "layout": "IPY_MODEL_64b9c3a52bea486b906bd756cb0fa99f",
            "_model_module": "@jupyter-widgets/controls",
            "children": [
              "IPY_MODEL_4d5ba0bbeebb49d8b174a66f473a6a67",
              "IPY_MODEL_88bfd8708e6c487b8c16890825f8f06d"
            ]
          }
        },
        "64b9c3a52bea486b906bd756cb0fa99f": {
          "model_module": "@jupyter-widgets/base",
          "model_name": "LayoutModel",
          "state": {
            "_view_name": "LayoutView",
            "grid_template_rows": null,
            "right": null,
            "justify_content": null,
            "_view_module": "@jupyter-widgets/base",
            "overflow": null,
            "_model_module_version": "1.2.0",
            "_view_count": null,
            "flex_flow": null,
            "width": null,
            "min_width": null,
            "border": null,
            "align_items": null,
            "bottom": null,
            "_model_module": "@jupyter-widgets/base",
            "top": null,
            "grid_column": null,
            "overflow_y": null,
            "overflow_x": null,
            "grid_auto_flow": null,
            "grid_area": null,
            "grid_template_columns": null,
            "flex": null,
            "_model_name": "LayoutModel",
            "justify_items": null,
            "grid_row": null,
            "max_height": null,
            "align_content": null,
            "visibility": null,
            "align_self": null,
            "height": null,
            "min_height": null,
            "padding": null,
            "grid_auto_rows": null,
            "grid_gap": null,
            "max_width": null,
            "order": null,
            "_view_module_version": "1.2.0",
            "grid_template_areas": null,
            "object_position": null,
            "object_fit": null,
            "grid_auto_columns": null,
            "margin": null,
            "display": null,
            "left": null
          }
        },
        "4d5ba0bbeebb49d8b174a66f473a6a67": {
          "model_module": "@jupyter-widgets/controls",
          "model_name": "FloatProgressModel",
          "state": {
            "_view_name": "ProgressView",
            "style": "IPY_MODEL_8c740efff1a640a2a7371d742b3585c8",
            "_dom_classes": [],
            "description": " 76%",
            "_model_name": "FloatProgressModel",
            "bar_style": "danger",
            "max": 50000,
            "_view_module": "@jupyter-widgets/controls",
            "_model_module_version": "1.5.0",
            "value": 37974,
            "_view_count": null,
            "_view_module_version": "1.5.0",
            "orientation": "horizontal",
            "min": 0,
            "description_tooltip": null,
            "_model_module": "@jupyter-widgets/controls",
            "layout": "IPY_MODEL_2315961c99a14425b2d363f703b58c88"
          }
        },
        "88bfd8708e6c487b8c16890825f8f06d": {
          "model_module": "@jupyter-widgets/controls",
          "model_name": "HTMLModel",
          "state": {
            "_view_name": "HTMLView",
            "style": "IPY_MODEL_5108da096e1e49cd9d0934780f248392",
            "_dom_classes": [],
            "description": "",
            "_model_name": "HTMLModel",
            "placeholder": "​",
            "_view_module": "@jupyter-widgets/controls",
            "_model_module_version": "1.5.0",
            "value": " 37974/50000 [00:08&lt;00:00, 99228.64 examples/s]",
            "_view_count": null,
            "_view_module_version": "1.5.0",
            "description_tooltip": null,
            "_model_module": "@jupyter-widgets/controls",
            "layout": "IPY_MODEL_31da959638e24be9968b9a3c76a02b28"
          }
        },
        "8c740efff1a640a2a7371d742b3585c8": {
          "model_module": "@jupyter-widgets/controls",
          "model_name": "ProgressStyleModel",
          "state": {
            "_view_name": "StyleView",
            "_model_name": "ProgressStyleModel",
            "description_width": "initial",
            "_view_module": "@jupyter-widgets/base",
            "_model_module_version": "1.5.0",
            "_view_count": null,
            "_view_module_version": "1.2.0",
            "bar_color": null,
            "_model_module": "@jupyter-widgets/controls"
          }
        },
        "2315961c99a14425b2d363f703b58c88": {
          "model_module": "@jupyter-widgets/base",
          "model_name": "LayoutModel",
          "state": {
            "_view_name": "LayoutView",
            "grid_template_rows": null,
            "right": null,
            "justify_content": null,
            "_view_module": "@jupyter-widgets/base",
            "overflow": null,
            "_model_module_version": "1.2.0",
            "_view_count": null,
            "flex_flow": null,
            "width": null,
            "min_width": null,
            "border": null,
            "align_items": null,
            "bottom": null,
            "_model_module": "@jupyter-widgets/base",
            "top": null,
            "grid_column": null,
            "overflow_y": null,
            "overflow_x": null,
            "grid_auto_flow": null,
            "grid_area": null,
            "grid_template_columns": null,
            "flex": null,
            "_model_name": "LayoutModel",
            "justify_items": null,
            "grid_row": null,
            "max_height": null,
            "align_content": null,
            "visibility": null,
            "align_self": null,
            "height": null,
            "min_height": null,
            "padding": null,
            "grid_auto_rows": null,
            "grid_gap": null,
            "max_width": null,
            "order": null,
            "_view_module_version": "1.2.0",
            "grid_template_areas": null,
            "object_position": null,
            "object_fit": null,
            "grid_auto_columns": null,
            "margin": null,
            "display": null,
            "left": null
          }
        },
        "5108da096e1e49cd9d0934780f248392": {
          "model_module": "@jupyter-widgets/controls",
          "model_name": "DescriptionStyleModel",
          "state": {
            "_view_name": "StyleView",
            "_model_name": "DescriptionStyleModel",
            "description_width": "",
            "_view_module": "@jupyter-widgets/base",
            "_model_module_version": "1.5.0",
            "_view_count": null,
            "_view_module_version": "1.2.0",
            "_model_module": "@jupyter-widgets/controls"
          }
        },
        "31da959638e24be9968b9a3c76a02b28": {
          "model_module": "@jupyter-widgets/base",
          "model_name": "LayoutModel",
          "state": {
            "_view_name": "LayoutView",
            "grid_template_rows": null,
            "right": null,
            "justify_content": null,
            "_view_module": "@jupyter-widgets/base",
            "overflow": null,
            "_model_module_version": "1.2.0",
            "_view_count": null,
            "flex_flow": null,
            "width": null,
            "min_width": null,
            "border": null,
            "align_items": null,
            "bottom": null,
            "_model_module": "@jupyter-widgets/base",
            "top": null,
            "grid_column": null,
            "overflow_y": null,
            "overflow_x": null,
            "grid_auto_flow": null,
            "grid_area": null,
            "grid_template_columns": null,
            "flex": null,
            "_model_name": "LayoutModel",
            "justify_items": null,
            "grid_row": null,
            "max_height": null,
            "align_content": null,
            "visibility": null,
            "align_self": null,
            "height": null,
            "min_height": null,
            "padding": null,
            "grid_auto_rows": null,
            "grid_gap": null,
            "max_width": null,
            "order": null,
            "_view_module_version": "1.2.0",
            "grid_template_areas": null,
            "object_position": null,
            "object_fit": null,
            "grid_auto_columns": null,
            "margin": null,
            "display": null,
            "left": null
          }
        }
      }
    }
  },
  "cells": [
    {
      "cell_type": "markdown",
      "metadata": {
        "id": "view-in-github",
        "colab_type": "text"
      },
      "source": [
        "<a href=\"https://colab.research.google.com/github/ami-doshi/RNN-with-TensorFlow---Reviews-for-IMDB/blob/master/RNN_with_TF2_0_Reviews_for_iMDB.ipynb\" target=\"_parent\"><img src=\"https://colab.research.google.com/assets/colab-badge.svg\" alt=\"Open In Colab\"/></a>"
      ]
    },
    {
      "cell_type": "markdown",
      "metadata": {
        "id": "4wEvaFFlTTlJ",
        "colab_type": "text"
      },
      "source": [
        "# Working with TensorFlow 2.0 Dataset API\n",
        "\n",
        "The plan is \n",
        "\n",
        "<ol>\n",
        "  <li>   Download the IMDB Reviews dataset using TensorFlow Datasets APIs\n",
        "  <li>   Count the number of unique words in the vocabulary using a tokenizer\n",
        "  <li>   Convert the words to integers so that they can be used in numerical calculations\n",
        "  <li>   Prepare your training and validation datasets using TF2.0 dataset APIs\n",
        "  <li>   Use word embeddings to convert the integers to meaningful representations i.e. feature vectors that maximize interclass similarity and minimize intraclass similarity\n",
        "  <li>   Design, train, and evaluate RNN Models\n",
        "      <ol>\n",
        "      <li>   DNN\n",
        "      <li>   LSTM\n",
        "      <li>   GRU\n",
        "      <li>   Bidirectional LSTM\n",
        "      </ol>\n",
        "</ol>"
      ]
    },
    {
      "cell_type": "code",
      "metadata": {
        "id": "QWX948hkF5w3",
        "colab_type": "code",
        "colab": {}
      },
      "source": [
        "# Global Variables\n",
        "LR = 0.0005  # learning rate\n",
        "REG_LAMBDA = 0.00001  # regularization lambda\n",
        "BATCH_SZ = 32 # batch size\n",
        "EPOCHS = 10  # number of epochs\n",
        "TRAIN_STEPS = 45  # steps per train epoch\n",
        "VAL_STEPS = 45  # steps per validation epoch\n",
        "EMBED_SZ = 32  # embedding vector size\n",
        "RNN_SZ = 16  # number of units in RNN layer"
      ],
      "execution_count": 0,
      "outputs": []
    },
    {
      "cell_type": "markdown",
      "metadata": {
        "id": "qm5FaGaJxvam",
        "colab_type": "text"
      },
      "source": [
        "### 1. Download the IMDB Reviews dataset"
      ]
    },
    {
      "cell_type": "code",
      "metadata": {
        "id": "MzTC84IP1rV1",
        "colab_type": "code",
        "colab": {}
      },
      "source": [
        "# import both tensorflow and tensorflow_datasets\n",
        "\n",
        "import tensorflow as tf\n",
        "import tensorflow_datasets as tfds"
      ],
      "execution_count": 0,
      "outputs": []
    },
    {
      "cell_type": "code",
      "metadata": {
        "id": "mivlYji91vro",
        "colab_type": "code",
        "outputId": "3ce18476-ec1a-4ec5-b1ee-bf6b25569626",
        "colab": {
          "base_uri": "https://localhost:8080/",
          "height": 353,
          "referenced_widgets": [
            "abbd3d156071424bb146893a1343da80",
            "e6df56fb9a344e25b705c4901abbb910",
            "b67a23c1666047f4a79c65de86428633",
            "574d9f13a6c94044bb45c33d68ff39ae",
            "536817a85f1e491b9aef55f9560cc516",
            "bd01fc2837f14746838c90da6f6856e3",
            "844035569fa44d619a4e2186b18ecc11",
            "4aa73ba28bad407a9b94a6d4254614d7",
            "00627ac9443640bea379b821c85e6ff6",
            "7b45435d40304b9a8a8925fe89bda694",
            "2e067afa15c74983b8e36aee748e9740",
            "45b86370c90b44a9a3e12c99a1e91e7e",
            "442a777191624d799db2ae74877ae67e",
            "6b4fea165e9747cdbddd07f5ed8dff67",
            "f7d6d60d586c4c228574d60a020f49c9",
            "4a35b72079af42adb3c4f9bbea295d8b",
            "d8c6f98e22c54c66846a617eb5e35470",
            "bc32222d1a3c4305aec1762ff6611756",
            "b03e2a9636124c71a7a7fe44f839e759",
            "6c66996ddb5d407bbbaeaf2efa037fcf",
            "5fb331263c464671bd71cbe1c03f1135",
            "e397843c58fe4935a898fc5c46501cd7",
            "c6bdb8fa370942bcaf131b3ced514916",
            "7f8f62e762ca44e1b0772170ac1f6fb5",
            "2cdf148d4d9d4843b1a1dff43c772632",
            "4b83e49e30584a088224ea2afd982091",
            "227f5296d2b04c6ca0a2b602ab6ebffe",
            "e182415c1861422585200ad46d8991df",
            "0f9a6d7770ae4ba2a4b4560c1ac69cdb",
            "8af93eb3f8df4bb38f94319d268c3b04",
            "9142b41ce25d446cac85c07c99cdfbe3",
            "9b7e6f5ddbe349699b1feda8de223a40",
            "a44374a137db434f869884501f0bddd4",
            "9087db436a5746eeb912e32a82c30b66",
            "4d3705b8eec449bb9d18735a89a6479d",
            "3b974498a08241419a404ba83c216b06",
            "360bef25387142499ea2bcca4e9ae913",
            "4256bd6c9d474c04939d4e190a124d2c",
            "d04057d0745a4ddb912d16d5f079c6f3",
            "73dd2634471942909100da158de5321b",
            "dfa772e0a50e48828388d1c19736643d",
            "3cb235b9c410446296d90463c6155796",
            "2822a1bb31164bb783f4f12d23d712cb",
            "8419e1a969254b22aea64252aca97aa7",
            "ca7192cbedda4cd8a268e024fb4fbf5e",
            "c241d744269c42fbbed4040bea638a3d",
            "3266e0256fb64021a7f86cef4d6a1216",
            "8817f9fe8504438899f81c8ccfd43590",
            "e960dcf408a346dd96d6478fa4c3f24a",
            "148ff4430cd040829a7c9e0f3186e184",
            "e32e9adffa7441749f40c2c78acb64ee",
            "517fdadfe3194070ae2c2674d5e9ff2e",
            "a94d43bab7614dae941da2c863febd26",
            "c779ac41c97e4b9c92c4d95bea6dd17a",
            "e0033911316e4cf5a9db1fa36b0e70ed",
            "faf279fa52c1470eaec13e97543f425f",
            "788b0e07dc9944ebacc56d3bc122d81f",
            "64b9c3a52bea486b906bd756cb0fa99f",
            "4d5ba0bbeebb49d8b174a66f473a6a67",
            "88bfd8708e6c487b8c16890825f8f06d",
            "8c740efff1a640a2a7371d742b3585c8",
            "2315961c99a14425b2d363f703b58c88",
            "5108da096e1e49cd9d0934780f248392",
            "31da959638e24be9968b9a3c76a02b28"
          ]
        }
      },
      "source": [
        "# download the imdb review dataset and allocate the training and testing splits to new variables\n",
        "# remark, for this exercise, we need a supervised dataset with both reviews and labels\n",
        "# remark, the information object holds dataset size among many other details\n",
        "# remark, the imdb reviews is balanced dataset of positive and negative reviews\n",
        "\n",
        "(ds_train, ds_test), info = tfds.load(\n",
        "    name= 'imdb_reviews/plain_text',\n",
        "    with_info=True,\n",
        "    as_supervised = True,\n",
        "    download = True,\n",
        "    split=(tfds.Split.TRAIN, tfds.Split.TEST)\n",
        ")"
      ],
      "execution_count": 0,
      "outputs": [
        {
          "output_type": "stream",
          "text": [
            "\u001b[1mDownloading and preparing dataset imdb_reviews/plain_text/1.0.0 (download: 80.23 MiB, generated: Unknown size, total: 80.23 MiB) to /root/tensorflow_datasets/imdb_reviews/plain_text/1.0.0...\u001b[0m\n"
          ],
          "name": "stdout"
        },
        {
          "output_type": "display_data",
          "data": {
            "application/vnd.jupyter.widget-view+json": {
              "model_id": "abbd3d156071424bb146893a1343da80",
              "version_minor": 0,
              "version_major": 2
            },
            "text/plain": [
              "HBox(children=(FloatProgress(value=1.0, bar_style='info', description='Dl Completed...', max=1.0, style=Progre…"
            ]
          },
          "metadata": {
            "tags": []
          }
        },
        {
          "output_type": "display_data",
          "data": {
            "application/vnd.jupyter.widget-view+json": {
              "model_id": "00627ac9443640bea379b821c85e6ff6",
              "version_minor": 0,
              "version_major": 2
            },
            "text/plain": [
              "HBox(children=(FloatProgress(value=1.0, bar_style='info', description='Dl Size...', max=1.0, style=ProgressSty…"
            ]
          },
          "metadata": {
            "tags": []
          }
        },
        {
          "output_type": "stream",
          "text": [
            "\n",
            "\n",
            "\n",
            "\n"
          ],
          "name": "stdout"
        },
        {
          "output_type": "display_data",
          "data": {
            "application/vnd.jupyter.widget-view+json": {
              "model_id": "d8c6f98e22c54c66846a617eb5e35470",
              "version_minor": 0,
              "version_major": 2
            },
            "text/plain": [
              "HBox(children=(FloatProgress(value=1.0, bar_style='info', max=1.0), HTML(value='')))"
            ]
          },
          "metadata": {
            "tags": []
          }
        },
        {
          "output_type": "stream",
          "text": [
            "\rShuffling and writing examples to /root/tensorflow_datasets/imdb_reviews/plain_text/1.0.0.incompleteQ9U0J5/imdb_reviews-train.tfrecord\n"
          ],
          "name": "stdout"
        },
        {
          "output_type": "display_data",
          "data": {
            "application/vnd.jupyter.widget-view+json": {
              "model_id": "2cdf148d4d9d4843b1a1dff43c772632",
              "version_minor": 0,
              "version_major": 2
            },
            "text/plain": [
              "HBox(children=(FloatProgress(value=0.0, max=25000.0), HTML(value='')))"
            ]
          },
          "metadata": {
            "tags": []
          }
        },
        {
          "output_type": "stream",
          "text": [
            "\r"
          ],
          "name": "stdout"
        },
        {
          "output_type": "display_data",
          "data": {
            "application/vnd.jupyter.widget-view+json": {
              "model_id": "a44374a137db434f869884501f0bddd4",
              "version_minor": 0,
              "version_major": 2
            },
            "text/plain": [
              "HBox(children=(FloatProgress(value=1.0, bar_style='info', max=1.0), HTML(value='')))"
            ]
          },
          "metadata": {
            "tags": []
          }
        },
        {
          "output_type": "stream",
          "text": [
            "\rShuffling and writing examples to /root/tensorflow_datasets/imdb_reviews/plain_text/1.0.0.incompleteQ9U0J5/imdb_reviews-test.tfrecord\n"
          ],
          "name": "stdout"
        },
        {
          "output_type": "display_data",
          "data": {
            "application/vnd.jupyter.widget-view+json": {
              "model_id": "dfa772e0a50e48828388d1c19736643d",
              "version_minor": 0,
              "version_major": 2
            },
            "text/plain": [
              "HBox(children=(FloatProgress(value=0.0, max=25000.0), HTML(value='')))"
            ]
          },
          "metadata": {
            "tags": []
          }
        },
        {
          "output_type": "stream",
          "text": [
            "\r"
          ],
          "name": "stdout"
        },
        {
          "output_type": "display_data",
          "data": {
            "application/vnd.jupyter.widget-view+json": {
              "model_id": "e960dcf408a346dd96d6478fa4c3f24a",
              "version_minor": 0,
              "version_major": 2
            },
            "text/plain": [
              "HBox(children=(FloatProgress(value=1.0, bar_style='info', max=1.0), HTML(value='')))"
            ]
          },
          "metadata": {
            "tags": []
          }
        },
        {
          "output_type": "stream",
          "text": [
            "\rShuffling and writing examples to /root/tensorflow_datasets/imdb_reviews/plain_text/1.0.0.incompleteQ9U0J5/imdb_reviews-unsupervised.tfrecord\n"
          ],
          "name": "stdout"
        },
        {
          "output_type": "display_data",
          "data": {
            "application/vnd.jupyter.widget-view+json": {
              "model_id": "788b0e07dc9944ebacc56d3bc122d81f",
              "version_minor": 0,
              "version_major": 2
            },
            "text/plain": [
              "HBox(children=(FloatProgress(value=0.0, max=50000.0), HTML(value='')))"
            ]
          },
          "metadata": {
            "tags": []
          }
        },
        {
          "output_type": "stream",
          "text": [
            "\u001b[1mDataset imdb_reviews downloaded and prepared to /root/tensorflow_datasets/imdb_reviews/plain_text/1.0.0. Subsequent calls will reuse this data.\u001b[0m\n",
            "\r"
          ],
          "name": "stdout"
        }
      ]
    },
    {
      "cell_type": "code",
      "metadata": {
        "id": "7f2vB8cC2Mmr",
        "colab_type": "code",
        "outputId": "8b32b17c-411b-4462-8bc7-71847d0b033a",
        "colab": {
          "base_uri": "https://localhost:8080/",
          "height": 557
        }
      },
      "source": [
        "# inspect the information object\n",
        "info"
      ],
      "execution_count": 0,
      "outputs": [
        {
          "output_type": "execute_result",
          "data": {
            "text/plain": [
              "tfds.core.DatasetInfo(\n",
              "    name='imdb_reviews',\n",
              "    version=1.0.0,\n",
              "    description='Large Movie Review Dataset.\n",
              "This is a dataset for binary sentiment classification containing substantially more data than previous benchmark datasets. We provide a set of 25,000 highly polar movie reviews for training, and 25,000 for testing. There is additional unlabeled data for use as well.',\n",
              "    homepage='http://ai.stanford.edu/~amaas/data/sentiment/',\n",
              "    features=FeaturesDict({\n",
              "        'label': ClassLabel(shape=(), dtype=tf.int64, num_classes=2),\n",
              "        'text': Text(shape=(), dtype=tf.string),\n",
              "    }),\n",
              "    total_num_examples=100000,\n",
              "    splits={\n",
              "        'test': 25000,\n",
              "        'train': 25000,\n",
              "        'unsupervised': 50000,\n",
              "    },\n",
              "    supervised_keys=('text', 'label'),\n",
              "    citation=\"\"\"@InProceedings{maas-EtAl:2011:ACL-HLT2011,\n",
              "      author    = {Maas, Andrew L.  and  Daly, Raymond E.  and  Pham, Peter T.  and  Huang, Dan  and  Ng, Andrew Y.  and  Potts, Christopher},\n",
              "      title     = {Learning Word Vectors for Sentiment Analysis},\n",
              "      booktitle = {Proceedings of the 49th Annual Meeting of the Association for Computational Linguistics: Human Language Technologies},\n",
              "      month     = {June},\n",
              "      year      = {2011},\n",
              "      address   = {Portland, Oregon, USA},\n",
              "      publisher = {Association for Computational Linguistics},\n",
              "      pages     = {142--150},\n",
              "      url       = {http://www.aclweb.org/anthology/P11-1015}\n",
              "    }\"\"\",\n",
              "    redistribution_info=,\n",
              ")"
            ]
          },
          "metadata": {
            "tags": []
          },
          "execution_count": 8
        }
      ]
    },
    {
      "cell_type": "code",
      "metadata": {
        "id": "8BwZ8Vzl8BCi",
        "colab_type": "code",
        "outputId": "5359c1f8-386b-4a0e-e3a7-6c26555b6655",
        "colab": {
          "base_uri": "https://localhost:8080/",
          "height": 35
        }
      },
      "source": [
        "# extract the number of reviews in the training set using object attributes and dictionary keys from the information object above\n",
        "info.splits['train'].num_examples\n"
      ],
      "execution_count": 0,
      "outputs": [
        {
          "output_type": "execute_result",
          "data": {
            "text/plain": [
              "25000"
            ]
          },
          "metadata": {
            "tags": []
          },
          "execution_count": 11
        }
      ]
    },
    {
      "cell_type": "markdown",
      "metadata": {
        "id": "rDEphOki1ECa",
        "colab_type": "text"
      },
      "source": [
        "### 2. Create the Unique Vocabulary Set"
      ]
    },
    {
      "cell_type": "code",
      "metadata": {
        "id": "a_lvGpUQ3Olq",
        "colab_type": "code",
        "colab": {}
      },
      "source": [
        "# import the ceil rounding method from the math library\n",
        "\n",
        "from math import ceil\n",
        "\n",
        "# how many iterations does it it take to iterate over the complete training set?\n",
        "\n",
        "total_size = info.splits['train'].num_examples\n",
        "\n",
        "# remark use the batch size equals one for simplicity\n",
        "batch_size = 1\n",
        "num_takes = ceil(total_size / batch_size ) + 1\n",
        "\n",
        "# create a tokenizer object from the tensorflow datasets text APIs\n",
        "tokenizer = tfds.features.text.Tokenizer()\n",
        "\n",
        "# create a unique set data structure to hold the tokenized words of the vocabulary\n",
        "vocabulary = set()\n",
        "\n",
        "# loop over the training data one batch at a time\n",
        "for batch, label in ds_train.batch(batch_size).take(num_takes):\n",
        "\n",
        "  # apply the tokenizer to the string reviews of the batch\n",
        "  tokens = tokenizer.tokenize(str(batch[0].numpy()))\n",
        "\n",
        "  # add the unique new words only to the vocabulary corpus\n",
        "  vocabulary.update(tokens)"
      ],
      "execution_count": 0,
      "outputs": []
    },
    {
      "cell_type": "code",
      "metadata": {
        "id": "5waifH0KraaB",
        "colab_type": "code",
        "outputId": "9157a2dd-fc4b-4d70-e5d7-e3a8f485eac1",
        "colab": {
          "base_uri": "https://localhost:8080/",
          "height": 55
        }
      },
      "source": [
        "print(batch,tokenizer.tokenize(str(batch[0].numpy())))"
      ],
      "execution_count": 0,
      "outputs": [
        {
          "output_type": "stream",
          "text": [
            "tf.Tensor([b'First of all, Riget is wonderful. Good comedy and mystery thriller at the same time. Nice combination of strange \\'dogma\\' style of telling the story together with good music and great actors. But unfortunately there\\'s no \\'the end\\'. As for me it\\'s unacceptable. I was thinking... how it will be possible to continue the story without Helmer and Drusse? ...and I have some idea. I think Lars should make RIGET III a little bit different. I\\'m sure that 3rd part without Helmer wouldn\\'t be the same. So here\\'s my suggestion. Mayble little bit stupid, maybe not. I know that Lars likes to experiment. So why not to make small experiment with Riget3? I think the only solution here is to create puppet-driven animation (like for example \"team America\" by Trey Parker) or even computer 3d animation. I know it\\'s not the same as real actors, but in principle I believe it could work... only this way it\\'s possible to make actors alive again. For Riget fans this shouldn\\'t be so big difference - if the animation will be done in good way average \\'watcher\\' will consider it normal just after first few shots of the movie. The most important thing now is the story. It\\'s completely understandable that it\\'s not possible to create Riget 3 with the actors nowadays. So why not to play with animation? And... look for the possibilities that it gives to you! Even marketing one! Great director finishes his trilogy after 10 years using puppet animation. Just dreams?<br /><br />I hope to see Riget 3 someday... or even to see just the script. I\\'m curious how the story ends... and as I expect- everybody here do.<br /><br />greets, slaj<br /><br />ps: I\\'m not talking about the \"kingdom hospital\" by Stephen King ;-)'], shape=(1,), dtype=string) ['b', 'First', 'of', 'all', 'Riget', 'is', 'wonderful', 'Good', 'comedy', 'and', 'mystery', 'thriller', 'at', 'the', 'same', 'time', 'Nice', 'combination', 'of', 'strange', 'dogma', 'style', 'of', 'telling', 'the', 'story', 'together', 'with', 'good', 'music', 'and', 'great', 'actors', 'But', 'unfortunately', 'there', 's', 'no', 'the', 'end', 'As', 'for', 'me', 'it', 's', 'unacceptable', 'I', 'was', 'thinking', 'how', 'it', 'will', 'be', 'possible', 'to', 'continue', 'the', 'story', 'without', 'Helmer', 'and', 'Drusse', 'and', 'I', 'have', 'some', 'idea', 'I', 'think', 'Lars', 'should', 'make', 'RIGET', 'III', 'a', 'little', 'bit', 'different', 'I', 'm', 'sure', 'that', '3rd', 'part', 'without', 'Helmer', 'wouldn', 't', 'be', 'the', 'same', 'So', 'here', 's', 'my', 'suggestion', 'Mayble', 'little', 'bit', 'stupid', 'maybe', 'not', 'I', 'know', 'that', 'Lars', 'likes', 'to', 'experiment', 'So', 'why', 'not', 'to', 'make', 'small', 'experiment', 'with', 'Riget3', 'I', 'think', 'the', 'only', 'solution', 'here', 'is', 'to', 'create', 'puppet', 'driven', 'animation', 'like', 'for', 'example', 'team', 'America', 'by', 'Trey', 'Parker', 'or', 'even', 'computer', '3d', 'animation', 'I', 'know', 'it', 's', 'not', 'the', 'same', 'as', 'real', 'actors', 'but', 'in', 'principle', 'I', 'believe', 'it', 'could', 'work', 'only', 'this', 'way', 'it', 's', 'possible', 'to', 'make', 'actors', 'alive', 'again', 'For', 'Riget', 'fans', 'this', 'shouldn', 't', 'be', 'so', 'big', 'difference', 'if', 'the', 'animation', 'will', 'be', 'done', 'in', 'good', 'way', 'average', 'watcher', 'will', 'consider', 'it', 'normal', 'just', 'after', 'first', 'few', 'shots', 'of', 'the', 'movie', 'The', 'most', 'important', 'thing', 'now', 'is', 'the', 'story', 'It', 's', 'completely', 'understandable', 'that', 'it', 's', 'not', 'possible', 'to', 'create', 'Riget', '3', 'with', 'the', 'actors', 'nowadays', 'So', 'why', 'not', 'to', 'play', 'with', 'animation', 'And', 'look', 'for', 'the', 'possibilities', 'that', 'it', 'gives', 'to', 'you', 'Even', 'marketing', 'one', 'Great', 'director', 'finishes', 'his', 'trilogy', 'after', '10', 'years', 'using', 'puppet', 'animation', 'Just', 'dreams', 'br', 'br', 'I', 'hope', 'to', 'see', 'Riget', '3', 'someday', 'or', 'even', 'to', 'see', 'just', 'the', 'script', 'I', 'm', 'curious', 'how', 'the', 'story', 'ends', 'and', 'as', 'I', 'expect', 'everybody', 'here', 'do', 'br', 'br', 'greets', 'slaj', 'br', 'br', 'ps', 'I', 'm', 'not', 'talking', 'about', 'the', 'kingdom', 'hospital', 'by', 'Stephen', 'King']\n"
          ],
          "name": "stdout"
        }
      ]
    },
    {
      "cell_type": "code",
      "metadata": {
        "id": "PPzWoQ9P80Tf",
        "colab_type": "code",
        "outputId": "6558941a-b9b7-4f3f-ea68-66d82b96c0e8",
        "colab": {
          "base_uri": "https://localhost:8080/",
          "height": 35
        }
      },
      "source": [
        "# what is the vocabulary size?\n",
        "len(vocabulary)\n"
      ],
      "execution_count": 0,
      "outputs": [
        {
          "output_type": "execute_result",
          "data": {
            "text/plain": [
              "94406"
            ]
          },
          "metadata": {
            "tags": []
          },
          "execution_count": 21
        }
      ]
    },
    {
      "cell_type": "code",
      "metadata": {
        "id": "gHCzVDh-4vCQ",
        "colab_type": "code",
        "colab": {}
      },
      "source": [
        "# how many iterations does it it take to iterate over the complete testing set?\n",
        "\n",
        "total_size = info.splits['test'].num_examples\n",
        "\n",
        "# remark use a batch size larger than one to make your code more interesting\n",
        "batch_size = 16\n",
        "num_takes = ceil(total_size/batch_size) + 1\n",
        "\n",
        "# loop over the testing data one batch at a time\n",
        "for batch, label in ds_test.batch(batch_size).take(num_takes):\n",
        "  \n",
        "  # loop over the reviews in the batch one review at a time\n",
        "  for i in range(batch.shape[0]):\n",
        "    \n",
        "    # apply the tokenizer to the string review\n",
        "    tokens = tokenizer.tokenize(str(batch[i].numpy()))\n",
        "\n",
        "    # add the unique new words only to the vocabulary corpus\n",
        "    vocabulary.update(tokens)\n"
      ],
      "execution_count": 0,
      "outputs": []
    },
    {
      "cell_type": "code",
      "metadata": {
        "id": "3A-WVFhb4XNN",
        "colab_type": "code",
        "outputId": "ab222288-37b6-48b9-ce98-1ff462994975",
        "colab": {
          "base_uri": "https://localhost:8080/",
          "height": 35
        }
      },
      "source": [
        "# what is the vocabulary size?\n",
        "len(vocabulary)"
      ],
      "execution_count": 0,
      "outputs": [
        {
          "output_type": "execute_result",
          "data": {
            "text/plain": [
              "130846"
            ]
          },
          "metadata": {
            "tags": []
          },
          "execution_count": 24
        }
      ]
    },
    {
      "cell_type": "code",
      "metadata": {
        "id": "YShnWcEU4xLW",
        "colab_type": "code",
        "colab": {}
      },
      "source": [
        "# store vocabulary size for future usage\n",
        "\n",
        "VOCAB_SZ = len(vocabulary)"
      ],
      "execution_count": 0,
      "outputs": []
    },
    {
      "cell_type": "markdown",
      "metadata": {
        "id": "3v7ioC2a459K",
        "colab_type": "text"
      },
      "source": [
        "### 3. Token Integer Indexer"
      ]
    },
    {
      "cell_type": "code",
      "metadata": {
        "id": "jIjBtAZX-9Yt",
        "colab_type": "code",
        "colab": {}
      },
      "source": [
        "# create a tokenizer and integer indexer object from the tensorflow datasets text APIs\n",
        "# remark the encoder should take the vocabulary size as a constructor initializer\n",
        "# remark feed the tokenizer from the previous step to the integer indexer\n",
        "# wrap up, the encoder at this step will convert words to integers\n",
        "\n",
        "encoder = tfds.features.text.TokenTextEncoder(\n",
        "    vocab_list = vocabulary,\n",
        "    tokenizer=tokenizer,\n",
        "    lowercase= True \n",
        ")"
      ],
      "execution_count": 0,
      "outputs": []
    },
    {
      "cell_type": "code",
      "metadata": {
        "id": "tRe0ihrW1Q_0",
        "colab_type": "code",
        "outputId": "e650442d-3610-4226-f3b5-16eda7023748",
        "colab": {
          "base_uri": "https://localhost:8080/",
          "height": 72
        }
      },
      "source": [
        "# let's do a unit test\n",
        "\n",
        "# loop over the batches in the training set and take only one batch for illustration purpose only\n",
        "for batch, label in ds_train.take(1):\n",
        "\n",
        "  # encode the text review using the encoder from the previous step\\\n",
        "  x = encoder.encode(batch.numpy())\n",
        "\n",
        "  # print both the original review and the indexed review to observe what's happening here\n",
        "  print(batch)\n",
        "  print(x)"
      ],
      "execution_count": 0,
      "outputs": [
        {
          "output_type": "stream",
          "text": [
            "tf.Tensor(b\"This was an absolutely terrible movie. Don't be lured in by Christopher Walken or Michael Ironside. Both are great actors, but this must simply be their worst role in history. Even their great acting could not redeem this movie's ridiculous storyline. This movie is an early nineties US propaganda piece. The most pathetic scenes were those when the Columbian rebels were making their cases for revolutions. Maria Conchita Alonso appeared phony, and her pseudo-love affair with Walken was nothing but a pathetic emotional plug in a movie that was devoid of any real meaning. I am disappointed that there are movies like this, ruining actor's like Christopher Walken's good name. I could barely sit through it.\", shape=(), dtype=string)\n",
            "[122438, 78169, 90039, 92135, 120017, 89292, 74833, 107120, 109693, 95368, 119017, 129778, 114665, 127348, 129908, 83489, 89925, 92658, 118896, 83195, 109039, 125761, 122438, 102790, 91445, 109693, 60379, 124301, 64422, 119017, 95576, 127550, 60379, 83195, 128409, 102454, 121351, 64774, 122438, 89292, 91313, 127682, 111847, 122438, 89292, 115744, 90039, 63971, 29057, 103781, 27244, 111589, 51506, 124993, 65439, 113900, 102358, 68477, 104541, 51506, 62773, 86509, 102358, 128262, 60379, 98749, 106245, 113485, 115287, 3055, 13032, 109670, 111526, 125539, 83349, 88966, 121256, 114266, 122986, 127348, 78169, 84965, 125761, 99228, 65439, 130631, 117984, 119017, 99228, 89292, 112729, 78169, 126841, 98955, 122931, 34980, 111816, 73424, 119021, 71080, 112729, 115802, 118896, 102641, 103345, 122438, 127855, 113693, 91313, 103345, 114665, 127348, 91313, 25913, 63976, 73424, 102454, 117396, 129851, 99299, 124544]\n"
          ],
          "name": "stdout"
        }
      ]
    },
    {
      "cell_type": "markdown",
      "metadata": {
        "id": "VrdcxNm--Xuo",
        "colab_type": "text"
      },
      "source": [
        "### 4. TF2.0 Dataset APIs\n",
        "####  Prepare the training and testing dataset iterators\n",
        "\n",
        "**tf.py_funtion** allows you to run arbitrary python code, especially numpy, inside a graph session. It serves in the following context as a bridge between static graph of TFv1.0 and the eager execution mode of TFv2.0\n",
        "\n",
        "You want to use **Dataset.map** to apply this function to each element of the dataset. *Dataset.map runs in graph mode.*\n",
        "\n",
        "*   Graph tensors do not have a value.\n",
        "*   In graph mode you can only use TensorFlow Ops and functions.\n",
        "\n",
        "So you can't .map this function directly: You need to wrap it in a **tf.py_function**. The **tf.py_function** will pass regular tensors (with a value and a **.numpy()** method to access it), to the wrapped python function.\n",
        "\n",
        "[Github Reference](https://github.com/tensorflow/tensorflow/issues/36979#issuecomment-594100272\n",
        ")"
      ]
    },
    {
      "cell_type": "code",
      "metadata": {
        "id": "jJoNSVLM1PIu",
        "colab_type": "code",
        "colab": {}
      },
      "source": [
        "# create a callback function to convert the string reviews to integer indices and return the X,y pairs\n",
        "def preprocess(batch, labels):\n",
        "  return encoder.encode(batch.numpy()), labels\n",
        "\n",
        "# create a tf.py_function wrapper callback to inject into the underlying graph session\n",
        "def encode_map_fn(batch, labels):\n",
        "  # py_func doesn't set the shape of the returned tensors.\n",
        "  # use tf.py_function to wrap the preprocess callback\n",
        "  encoded_batch, labels = tf.py_function(\n",
        "      preprocess,\n",
        "      inp = [batch,labels],\n",
        "      Tout = (tf.int64, tf.int64)\n",
        "  ) \n",
        "\n",
        "  # `tf.data.Datasets` work best if all components have a shape set\n",
        "  #  so set the shapes manually: \n",
        "  encoded_batch.set_shape([None])\n",
        "  labels.set_shape([])\n",
        "\n",
        "  # return the outputs of the processing step\n",
        "  return encoded_batch, labels\n",
        "\n",
        "\n",
        "# apply the integer indexer preprocessing callback to the train and test data set iterators\n",
        "# remark use the map method to process the samples in the dataset one by one on the fetch call\n",
        "tok_ds_train = ds_train.map(encode_map_fn)\n",
        "tok_ds_test = ds_test.map(encode_map_fn)"
      ],
      "execution_count": 0,
      "outputs": []
    },
    {
      "cell_type": "code",
      "metadata": {
        "id": "P-HkdgfFCWln",
        "colab_type": "code",
        "outputId": "8902e9c6-8f66-40b3-b354-ab5a6415369e",
        "colab": {
          "base_uri": "https://localhost:8080/",
          "height": 69
        }
      },
      "source": [
        "# let's test and observe\n",
        "# take a few batches and observe the batch dimensions\n",
        "\n",
        "for batch, labels in tok_ds_train.take(3):\n",
        "  print(batch.shape)"
      ],
      "execution_count": 0,
      "outputs": [
        {
          "output_type": "stream",
          "text": [
            "(121,)\n",
            "(112,)\n",
            "(132,)\n"
          ],
          "name": "stdout"
        }
      ]
    },
    {
      "cell_type": "code",
      "metadata": {
        "id": "dS4A51nvIVYY",
        "colab_type": "code",
        "colab": {}
      },
      "source": [
        "# shuffle the data for better stochastic sampling during the training\n",
        "\n",
        "fin_ds_train = tok_ds_train.shuffle(buffer_size=2048)\n",
        "fin_ds_test = tok_ds_test.shuffle(buffer_size=2048)"
      ],
      "execution_count": 0,
      "outputs": []
    },
    {
      "cell_type": "code",
      "metadata": {
        "id": "tz9oic9PtJim",
        "colab_type": "code",
        "colab": {}
      },
      "source": [
        "# avoid running out of data by using repeat( number of epochs * number of steps per epoch )\n",
        "\n",
        "fin_ds_train = fin_ds_train.repeat(EPOCHS*TRAIN_STEPS)\n",
        "fin_ds_test = fin_ds_test.repeat(EPOCHS*VAL_STEPS)"
      ],
      "execution_count": 0,
      "outputs": []
    },
    {
      "cell_type": "code",
      "metadata": {
        "id": "UEqpQAbVJiTQ",
        "colab_type": "code",
        "colab": {}
      },
      "source": [
        "# oh, yes, you are right, the batches are of different size\n",
        "# each review has a different length i.e. number of words\n",
        "# now use the padding batch method of the tensorflow 2.0 dataset APIs\n",
        "# remark drop the remainders of uneven batch size at the tail of the iteration over the dataset for sake of simplicity\n",
        "\n",
        "fin_ds_train = fin_ds_train.padded_batch(BATCH_SZ,drop_remainder=True)\n",
        "fin_ds_test = fin_ds_test.padded_batch(BATCH_SZ, drop_remainder= True)"
      ],
      "execution_count": 0,
      "outputs": []
    },
    {
      "cell_type": "code",
      "metadata": {
        "id": "GyeoxYgVKKDT",
        "colab_type": "code",
        "outputId": "c42d7465-3d7c-4f2b-f338-759da7e54432",
        "colab": {
          "base_uri": "https://localhost:8080/",
          "height": 69
        }
      },
      "source": [
        "# now test and observe\n",
        "# padded batches means samples in same batch are of equal length\n",
        "# it does not mean that all batches are of equal length though\n",
        "# this is absolutely fine for the next manipulation\n",
        "\n",
        "for batch, labels in fin_ds_train.take(3):\n",
        "  print(batch.shape)\n",
        "  for line in batch:\n",
        "    assert line.shape[0] == batch.shape[1]\n"
      ],
      "execution_count": 0,
      "outputs": [
        {
          "output_type": "stream",
          "text": [
            "(32, 887)\n",
            "(32, 677)\n",
            "(32, 551)\n"
          ],
          "name": "stdout"
        }
      ]
    },
    {
      "cell_type": "markdown",
      "metadata": {
        "id": "ZIGFok_2DhKF",
        "colab_type": "text"
      },
      "source": [
        "### 5. Word Embeddings\n",
        "\n",
        "Convert the meaningless integers to useful vector representations"
      ]
    },
    {
      "cell_type": "code",
      "metadata": {
        "id": "5LcwbHsB9rl9",
        "colab_type": "code",
        "colab": {}
      },
      "source": [
        "# create a one layer model with embedding for illustration purposes only\n",
        "# remark use vocab size + 0 of padding + unk for new words\n",
        "# remark the IMDB reviews length varies a lot, some reviews are a few hundred word, but others are many thousands\n",
        "# that's why it is better to use mask_zero equals true of the embedding layer\n",
        "# this way the model will learn to ignore the zero padding at the end of the reviews\n",
        "# the embedding layer is a masking producer while the RNN layer is a masking consumer\n",
        "# the mask is passed automatically between producers and consumers in both Sequentional and Functional APIs\n",
        "# read more about padding and masking on TF official website\n",
        "\n",
        "model = tf.keras.layers.Embedding(\n",
        "    input_dim = (VOCAB_SZ + 2),\n",
        "    output_dim = EMBED_SZ,\n",
        "    mask_zero = True\n",
        ")"
      ],
      "execution_count": 0,
      "outputs": []
    },
    {
      "cell_type": "code",
      "metadata": {
        "id": "FXbKnsqY9uw8",
        "colab_type": "code",
        "outputId": "33ce140a-59c4-4e14-ba69-48448270be21",
        "colab": {
          "base_uri": "https://localhost:8080/",
          "height": 121
        }
      },
      "source": [
        "# let's unit test once again by taking batches and compare the embeddings outputs to the original inputs\n",
        "\n",
        "# iterate over the training set\n",
        "for batch, labels in fin_ds_train.take(3):\n",
        "\n",
        "  # pass the text reviews, of course they are integer indexed by now, to the embedding layer\n",
        "  out = model(batch)\n",
        "  #print(batch[-1])\n",
        "  #print(out[-1])\n",
        "\n",
        "  print(batch.shape)\n",
        "  print(out.shape)\n",
        "  # assert that the inputs and outputs have the same number of words\n",
        "  assert batch.shape[1] == out.shape[1]\n",
        " \n",
        "\n",
        "  # assert that the embeddings have the expected size of 10 elements feature vectors\n",
        "  assert out.shape[2] == EMBED_SZ\n",
        "\n",
        "  # assert that the batch size is untouched before and after passing the data to your model\n",
        "  assert batch.shape[0] == out.shape[0]"
      ],
      "execution_count": 0,
      "outputs": [
        {
          "output_type": "stream",
          "text": [
            "(32, 1026)\n",
            "(32, 1026, 32)\n",
            "(32, 1029)\n",
            "(32, 1029, 32)\n",
            "(32, 1051)\n",
            "(32, 1051, 32)\n"
          ],
          "name": "stdout"
        }
      ]
    },
    {
      "cell_type": "markdown",
      "metadata": {
        "id": "dguWQX-sFW0w",
        "colab_type": "text"
      },
      "source": [
        "### 6. Design, Train, Evaluate RNN Models\n",
        "\n",
        "#### 6.1 DNN"
      ]
    },
    {
      "cell_type": "code",
      "metadata": {
        "id": "vkzsaoGFDLcm",
        "colab_type": "code",
        "outputId": "5432939d-c718-475d-b538-32bf92db91a3",
        "colab": {
          "base_uri": "https://localhost:8080/",
          "height": 159
        }
      },
      "source": [
        "# create a simple sequential model\n",
        "# make sure that the embedding layer is the first layer of the model\n",
        "# use LSTM RNN layer\n",
        "# design for single neuron output either positive or negative\n",
        "\n",
        "model = tf.keras.Sequential(layers=[\n",
        "                                    tf.keras.layers.Embedding(\n",
        "                                        input_dim = (VOCAB_SZ+2),\n",
        "                                        output_dim = EMBED_SZ,\n",
        "                                        mask_zero = True,\n",
        "                                        embeddings_regularizer = tf.keras.regularizers.l2(REG_LAMBDA)\n",
        "                                    ),\n",
        "                                    tf.keras.layers.GlobalAveragePooling1D(),\n",
        "                                    tf.keras.layers.Dense(\n",
        "                                        units = 16,\n",
        "                                        activation = 'relu',\n",
        "                                        activity_regularizer = tf.keras.regularizers.l2(REG_LAMBDA)\n",
        "                                    ),\n",
        "                                    tf.keras.layers.Dense(\n",
        "                                        units = 1,\n",
        "                                        activation = 'sigmoid'\n",
        "                                    )                               \n",
        "])\n",
        "\n",
        "# compile the model using an optimizer, loss, and metrics\n",
        "model.compile(\n",
        "    optimizer = tf.keras.optimizers.SGD(learning_rate=LR),\n",
        "    loss='binary_crossentropy',\n",
        "    metrics=[\n",
        "             'accuracy'\n",
        "    ]\n",
        ")\n",
        "\n",
        "\n",
        "# train the model using the fit method and mind the number of epochs and the steps per epoch\n",
        "# for simplicity use small values otherwise it will take a very long time\n",
        "\n",
        "history = model.fit(\n",
        "    fin_ds_train,\n",
        "    validation_data = fin_ds_test,\n",
        "    epochs = 2, #EPOCHS,\n",
        "    steps_per_epoch = 10,\n",
        "    validation_steps = 8,\n",
        "    verbose = 1\n",
        ")\n",
        "\n",
        "# evaluate the loss and the accuracy on the testing set\n",
        "\n",
        "# use the evaluate method and save the results in a variable this time\n",
        "test_loss, test_acc = list(\n",
        "    model.evaluate(fin_ds_test, steps = 8)\n",
        ")\n",
        "\n",
        "# save the loss and accuracy in dictionary for comparison\n",
        "report = {\n",
        "    'DNN': (test_loss,test_acc)\n",
        "}"
      ],
      "execution_count": 0,
      "outputs": [
        {
          "output_type": "stream",
          "text": [
            "Epoch 1/2\n"
          ],
          "name": "stdout"
        },
        {
          "output_type": "stream",
          "text": [
            "/usr/local/lib/python3.6/dist-packages/tensorflow/python/framework/indexed_slices.py:434: UserWarning: Converting sparse IndexedSlices to a dense Tensor of unknown shape. This may consume a large amount of memory.\n",
            "  \"Converting sparse IndexedSlices to a dense Tensor of unknown shape. \"\n"
          ],
          "name": "stderr"
        },
        {
          "output_type": "stream",
          "text": [
            "10/10 [==============================] - 2s 177ms/step - loss: 0.7279 - accuracy: 0.5063 - val_loss: 0.7281 - val_accuracy: 0.4805\n",
            "Epoch 2/2\n",
            "10/10 [==============================] - 2s 158ms/step - loss: 0.7281 - accuracy: 0.4594 - val_loss: 0.7281 - val_accuracy: 0.4805\n",
            "8/8 [==============================] - 0s 23ms/step - loss: 0.7281 - accuracy: 0.4844\n"
          ],
          "name": "stdout"
        }
      ]
    },
    {
      "cell_type": "code",
      "metadata": {
        "id": "s7_meK6H9IxW",
        "colab_type": "code",
        "outputId": "7bc91a4c-5d70-4c16-8755-81d6b5eaa8a8",
        "colab": {
          "base_uri": "https://localhost:8080/",
          "height": 35
        }
      },
      "source": [
        "report"
      ],
      "execution_count": 0,
      "outputs": [
        {
          "output_type": "execute_result",
          "data": {
            "text/plain": [
              "{'DNN': (0.7280976176261902, 0.484375)}"
            ]
          },
          "metadata": {
            "tags": []
          },
          "execution_count": 56
        }
      ]
    }
  ]
}